{
 "cells": [
  {
   "cell_type": "markdown",
   "id": "6ff64fec-d916-4581-9720-9b2dd3d8963b",
   "metadata": {},
   "source": [
    "# Chapter 4: Training a GPT Model"
   ]
  },
  {
   "cell_type": "markdown",
   "id": "1a80d7fe-ca02-40c7-b3ce-857edc6fabeb",
   "metadata": {},
   "source": [
    "<div class=\"alert alert-block alert-success\">\n",
    "In the previous chapters, we successfully designed and built every architectural component of a GPT model from scratch. We now have a complete, functional `GPTModel` class ready to be used.\n",
    "\n",
    "However, the model currently has randomly initialized weights and knows nothing about language. In this chapter, we will take the crucial next step: **training the model**. We will feed it a text corpus, calculate its performance using a loss function, and iteratively update its weights to teach it to generate coherent text.\n",
    "</div>"
   ]
  },
  {
   "cell_type": "markdown",
   "id": "7c1c245b-1326-4703-9607-69aa347a2a81",
   "metadata": {},
   "source": [
    "## 4.1 Import and Setup"
   ]
  },
  {
   "cell_type": "markdown",
   "id": "cabaddef-e0c9-42ab-9c3d-22641903c99c",
   "metadata": {},
   "source": [
    "<div class=\"alert alert-block alert-success\">\n",
    "We'll begin by importing the necessary libraries and the `GPTModel` we finalized in the last chapter.\n",
    "</div>"
   ]
  },
  {
   "cell_type": "code",
   "execution_count": 39,
   "id": "3403fa84-e80f-492a-aeaf-250bac91bdec",
   "metadata": {},
   "outputs": [],
   "source": [
    "# Standard library and third-party imports\n",
    "import sys\n",
    "import os\n",
    "import torch\n",
    "import torch.nn as nn\n",
    "import tiktoken\n",
    "\n",
    "import matplotlib.pyplot as plt\n",
    "from matplotlib.ticker import MaxNLocator\n",
    "\n",
    "# --- Add Project Root to Python Path ---\n",
    "\n",
    "# Get the directory of the current notebook\n",
    "current_notebook_dir = os.getcwd()\n",
    "\n",
    "# Go up one level to the project's root directory\n",
    "project_root = os.path.abspath(os.path.join(current_notebook_dir, '..'))\n",
    "\n",
    "# Add the project root to the Python path if it's not already there\n",
    "if project_root not in sys.path:\n",
    "    sys.path.append(project_root)\n",
    "\n",
    "# --- Imports from your `src` package ---\n",
    "from src.data_loader import create_dataloader\n",
    "from src.utils import load_data\n",
    "from src.model import GPTModel\n",
    "\n",
    "# We will use the same configuration dictionary\n",
    "GPT_CONFIG_124M = {\n",
    "    \"vocab_size\": 50257,\n",
    "    \"context_length\": 1024,\n",
    "    \"emb_dim\": 768,\n",
    "    \"n_heads\": 12,\n",
    "    \"n_layers\": 12,\n",
    "    \"dropout_rate\": 0.1,\n",
    "    \"qkv_bias\": False\n",
    "}"
   ]
  },
  {
   "cell_type": "markdown",
   "id": "c428a27c-07f5-46e8-a95f-40f0d5ae4c0c",
   "metadata": {},
   "source": [
    "## 4.2 Generating Text with the Untrained Model"
   ]
  },
  {
   "cell_type": "markdown",
   "id": "6da85e3f-1cc9-4055-a18a-cf7bb5df3e53",
   "metadata": {},
   "source": [
    "<div class=\"alert alert-block alert-success\">\n",
    "    \n",
    "Before we train the model, let's see what it produces with its random, untrained weights. To do this, we need a function that can perform an **autoregressive** generation loop. This process involves feeding the model an initial context, predicting the next token, adding that token back to the context, and repeating the process.\n",
    "</div>"
   ]
  },
  {
   "cell_type": "code",
   "execution_count": 2,
   "id": "2d7fa2bf-a2d5-4155-aad3-f8276162c10a",
   "metadata": {},
   "outputs": [],
   "source": [
    "def generate_text_simple(model, idx, max_new_tokens, context_size):\n",
    "    # idx is (batch, n_tokens) array of indices in the current context\n",
    "\n",
    "    for _ in range(max_new_tokens):\n",
    "        # Crop current context if exceeds the supported context size\n",
    "        idx_cond = idx[:, -context_size:]\n",
    "\n",
    "        # Get the predictions from the model\n",
    "        with torch.no_grad():\n",
    "            logits = model(idx_cond) ### batch, n_tokens, vocab_size\n",
    "\n",
    "         # Focus only on the prediction for the very last token in the sequence\n",
    "        logits = logits[:, -1, :]\n",
    "\n",
    "        # Apply softmax to get probabilities\n",
    "        probas = torch.softmax(logits, dim=-1)\n",
    "\n",
    "        # Get the token ID with the highest probability (greedy decoding)\n",
    "        idx_next = torch.argmax(probas, dim=-1, keepdim=True)\n",
    "\n",
    "        # Append the new token ID to therunning sequence\n",
    "        idx = torch.cat((idx, idx_next), dim=1)\n",
    "\n",
    "    return idx"
   ]
  },
  {
   "cell_type": "markdown",
   "id": "3a86a846-962e-4ed8-a2e2-9e6a08200c04",
   "metadata": {},
   "source": [
    "<div class=\"alert alert-block alert-success\">\n",
    "    \n",
    "The `generate_text_simple` function implements **greedy decoding**. In this autoregressive process, the model repeatedly predicts the single most likely next token, appends it to the sequence, and feeds the new sequence back into the model.\n",
    "\n",
    "</div>"
   ]
  },
  {
   "cell_type": "markdown",
   "id": "5dfd40bb-5d4b-4b8e-a937-aacbd8b20bd8",
   "metadata": {},
   "source": [
    "<div class=\"alert alert-block alert-info\">\n",
    "    \n",
    "  <b>A Note on `softmax` and `argmax`</b><br>\n",
    "  \n",
    "  In our function, we include a `softmax` step to convert the model's output scores (logits) into probabilities before finding the most likely token with `argmax`.\n",
    "\n",
    "  However, since `softmax` doesn't change the order of the scores, applying `argmax` directly to the `logits` would produce the exact same result. We include the step here to clearly illustrate the full process of generating probabilities, but it is technically redundant for greedy decoding.\n",
    "</div>"
   ]
  },
  {
   "cell_type": "markdown",
   "id": "1dcd5e55-d4da-4160-ae00-63f05562717b",
   "metadata": {},
   "source": [
    "<div class=\"alert alert-block alert-success\">\n",
    "Later in this chapter, when we will implement the GPT training code, we will also introduce additional sampling techniques where we modify the softmax outputs such that the model doesn't always select the most likely token, which introduces variability and creativity in the generated text.\n",
    "</div>"
   ]
  },
  {
   "cell_type": "markdown",
   "id": "210e2fee-d34e-4a40-a60a-f10d94c42572",
   "metadata": {},
   "source": [
    "<div class=\"alert alert-block alert-success\">\n",
    "Now, let's test our `generate_text_simple` function. We'll provide it with the starting context \"Hello, I am\" by first encoding the string into a batch of token IDs.\n",
    "</div>"
   ]
  },
  {
   "cell_type": "code",
   "execution_count": 3,
   "id": "c31d128b-b3a3-4731-8074-d115fa71a086",
   "metadata": {},
   "outputs": [
    {
     "name": "stdout",
     "output_type": "stream",
     "text": [
      "encoded: [15496, 11, 314, 716]\n",
      "Encoded tensor shape: torch.Size([1, 4])\n"
     ]
    }
   ],
   "source": [
    "# Prepare the input\n",
    "start_context = \"Hello, I am\"\n",
    "tokenizer = tiktoken.get_encoding(\"gpt2\")\n",
    "encoded = tokenizer.encode(start_context)\n",
    "encoded_tensor = torch.tensor(encoded).unsqueeze(0)\n",
    "print(\"encoded:\", encoded)\n",
    "print(\"Encoded tensor shape:\", encoded_tensor.shape)"
   ]
  },
  {
   "cell_type": "markdown",
   "id": "38e18ab9-0c50-4c3c-a388-e60eb24c5522",
   "metadata": {},
   "source": [
    "<div class=\"alert alert-block alert-success\">\n",
    "Next, we'll set the model to evaluation mode with `model.eval()`. This disables random components like dropout that are only used during training. We can then call our function to generate new tokens from the starting context.\n",
    "</div>"
   ]
  },
  {
   "cell_type": "code",
   "execution_count": 4,
   "id": "380b5437-b208-4621-8403-b506f4069d57",
   "metadata": {},
   "outputs": [
    {
     "name": "stdout",
     "output_type": "stream",
     "text": [
      "Model instantiated successfully.\n"
     ]
    }
   ],
   "source": [
    "# --- Instantiate the Model ---\n",
    "torch.manual_seed(100)\n",
    "model = GPTModel(GPT_CONFIG_124M)\n",
    "model.eval() # Set to evaluation mode\n",
    "\n",
    "print(\"Model instantiated successfully.\")"
   ]
  },
  {
   "cell_type": "markdown",
   "id": "895c3fa0-7596-47d7-bc4e-96f499c65a55",
   "metadata": {},
   "source": [
    "<div class=\"alert alert-block alert-success\">\n",
    "Let's generate text using our `generate_text_simple` function.\n",
    "</div>"
   ]
  },
  {
   "cell_type": "code",
   "execution_count": 5,
   "id": "26a686c8-7fe8-4b6a-8596-520c5e5b1b5e",
   "metadata": {},
   "outputs": [
    {
     "name": "stdout",
     "output_type": "stream",
     "text": [
      "Output: tensor([[15496,    11,   314,   716,  1908, 41574, 14356, 11426, 42884, 32296]])\n",
      "Output length: 10\n"
     ]
    }
   ],
   "source": [
    "# Generate text\n",
    "output_ids = generate_text_simple(\n",
    "    model=model,\n",
    "    idx=encoded_tensor,\n",
    "    max_new_tokens=6,\n",
    "    context_size=GPT_CONFIG_124M[\"context_length\"]\n",
    ")\n",
    "\n",
    "print(\"Output:\", output_ids)\n",
    "print(\"Output length:\", len(output_ids[0]))"
   ]
  },
  {
   "cell_type": "markdown",
   "id": "e647398c-cc88-4f9b-92fc-23e7adb54279",
   "metadata": {},
   "source": [
    "<div class=\"alert alert-block alert-success\">\n",
    "    \n",
    "Finally, we use the tokenizer's `.decode()` method to convert the output token IDs back into a readable string.\n",
    "</div>"
   ]
  },
  {
   "cell_type": "code",
   "execution_count": 6,
   "id": "333ee864-b9a4-48bc-a480-ca97cd8c7e96",
   "metadata": {},
   "outputs": [
    {
     "name": "stdout",
     "output_type": "stream",
     "text": [
      "\n",
      "Decoded text: 'Hello, I am sent agitated AW telephone Tomas shroud'\n"
     ]
    }
   ],
   "source": [
    "# Decode the output\n",
    "decoded_text = tokenizer.decode(output_ids.squeeze(0).tolist())\n",
    "print(f\"\\nDecoded text: '{decoded_text}'\")"
   ]
  },
  {
   "cell_type": "markdown",
   "id": "7bfd523c-a439-404a-bf55-544edd3509c2",
   "metadata": {},
   "source": [
    "<div class=\"alert alert-block alert-warning\">\n",
    "    \n",
    "  <b>Why is the output gibberish?</b><br>\n",
    "  \n",
    "  As we can see, the generated text is incoherent. This is the correct and expected result at this stage.\n",
    "\n",
    "  The reason is that our model is completely **untrained**. Its weights are still the random values they were initialized with. It has not yet learned any patterns of the English language. This demonstration perfectly illustrates *why* we need to train the model. In the next sections, we will prepare a dataset and implement a training loop to do just that.\n",
    "</div>"
   ]
  },
  {
   "cell_type": "markdown",
   "id": "008e33c0-e19a-4358-92e8-a1252db2d4d2",
   "metadata": {},
   "source": [
    "## 4.3 Evaluating Generative Text Models"
   ]
  },
  {
   "cell_type": "markdown",
   "id": "eed81d31-a18f-4bd2-808a-4c33e239a775",
   "metadata": {},
   "source": [
    "<div class=\"alert alert-block alert-success\">\n",
    "\n",
    "In the previous section, we saw that our untrained model produces incoherent gibberish. While we can see this qualitatively, we need a quantitative way to measure the model's performance. How do we capture \"good text\" versus \"bad text\" in a number that we can track and optimize?\n",
    "\n",
    "The answer is to use a **loss function**. For language models that predict next-token probabilities, the standard metric is **cross-entropy loss**. It measures how \"surprised\" the model is by the true next token; a lower loss means the model's predictions are closer to reality. A related, more interpretable metric is **perplexity**.\n",
    "</div>"
   ]
  },
  {
   "cell_type": "markdown",
   "id": "7bde5b01-788f-4fdd-92ad-08005a691694",
   "metadata": {},
   "source": [
    "<div class=\"alert alert-block alert-success\">\n",
    "\n",
    "Before we can calculate these metrics, we need to prepare our workspace. This involves two main setup steps:\n",
    "\n",
    "1.  **Initialize the Model:** We will instantiate a `GPTModel` using our configuration with a `context_length` of 256. Using a smaller context size (compared to the original GPT-2's 1024) reduces the computational requirements, making the examples in this chapter accessible on a standard laptop.\n",
    "\n",
    "2.  **Define Helper Functions:** We will define two convenience functions, `text_to_token_ids` and `token_ids_to_text`. These utilities will make it easier to convert back and forth between text and the model's numerical token IDs throughout our analysis.\n",
    "</div>"
   ]
  },
  {
   "cell_type": "code",
   "execution_count": 7,
   "id": "d72d621b-f5a7-4adf-ae35-25e8619db674",
   "metadata": {},
   "outputs": [],
   "source": [
    "GPT_CONFIG_124M = {\n",
    "    \"vocab_size\": 50257,   # Vocabulary size\n",
    "    \"context_length\": 256, # Shortened context length (orig: 1024)\n",
    "    \"emb_dim\": 768,        # Embedding dimension\n",
    "    \"n_heads\": 12,         # Number of attention heads\n",
    "    \"n_layers\": 12,        # Number of layers\n",
    "    \"dropout_rate\": 0.1,      # Dropout rate\n",
    "    \"qkv_bias\": False      # Query-key-value bias\n",
    "}\n",
    "\n",
    "torch.manual_seed(100)\n",
    "model = GPTModel(GPT_CONFIG_124M)\n",
    "model.eval();  # Disable dropout during inference"
   ]
  },
  {
   "cell_type": "code",
   "execution_count": 8,
   "id": "a4c1d1cf-1d40-47a3-a47f-dc843c16c6cc",
   "metadata": {},
   "outputs": [],
   "source": [
    "def text_to_token_ids(text, tokenizer):\n",
    "    encoded = tokenizer.encode(text, allowed_special={'<|endoftext|>'})\n",
    "    encoded_tensor = torch.tensor(encoded).unsqueeze(0) # add batch dimension\n",
    "    return encoded_tensor\n",
    "\n",
    "def token_ids_to_text(token_ids, tokenizer):\n",
    "    flat = token_ids.squeeze(0) # remove batch dimension\n",
    "    return tokenizer.decode(flat.tolist())"
   ]
  },
  {
   "cell_type": "markdown",
   "id": "c0841ce7-4827-435d-a0a4-a15ed26a7826",
   "metadata": {},
   "source": [
    "<div class=\"alert alert-block alert-success\">\n",
    "\n",
    "With our model initialized and helper functions defined, we can now perform our first end-to-end text generation. We will provide the model with the starting context \"Every effort moves you\" and use the `generate_text_simple` function to have it autoregressively generate the next 10 tokens.\n",
    "</div>    "
   ]
  },
  {
   "cell_type": "markdown",
   "id": "72fb6848-7f89-48d1-809f-73fc07acf9dd",
   "metadata": {},
   "source": [
    "start_context = \"Every effort moves yosu\"\n",
    "\n",
    "token_ids = generate_text_simple(\n",
    "    model=model,\n",
    "    idx=text_to_token_ids(start_contexta2, tokenizer),\n",
    "    max_new_tokens=10,\n",
    "    context_size=GPT_CONFIG_124M[\"context_length\"]\n",
    ")\n",
    "\n",
    "print(\"Output text:\\n\", token_ids_to_text(token_ids, tokenizer))"
   ]
  },
  {
   "cell_type": "markdown",
   "id": "45cb3081-b469-4a0d-bfc9-2949d80c177a",
   "metadata": {},
   "source": [
    "<div class=\"alert alert-block alert-success\">\n",
    "\n",
    "As we can see above, the model does not produce good text because it has not been trained yet.\n",
    "\n",
    "**How do we measure or capture what \"good text\" is, in a numeric form, to track it during training?**\n",
    "\n",
    "The next subsection introduces metrics to calculate a loss metric for the generated output that we can use to measure the training progress.\n",
    "\n",
    "The next chapters on finetuning LLMs will also introduce additional ways to neasure model quality.\n",
    "</div>"
   ]
  },
  {
   "cell_type": "markdown",
   "id": "29d62330-d204-48ba-ac3c-bbeee69a693e",
   "metadata": {},
   "source": [
    "## 4.4 Calculating the Text Generation Loss: Cross-Entropy and Perplexity"
   ]
  },
  {
   "cell_type": "markdown",
   "id": "1d76611d-820f-4ec6-b456-782e5a45be80",
   "metadata": {},
   "source": [
    "<div class=\"alert alert-block alert-success\">\n",
    "\n",
    "Suppose we have an inputs tensor containing the token IDs for 2 training example (rows).\n",
    "\n",
    "Corresponding to the inputs, the targets contain the desired token IDs that we want the model to generate.\n",
    "\n",
    "Notice that the targets are the inputs shifted by 1 position, as we explained in *Chapter 1* when we implemented the data loader.\n",
    "</div>"
   ]
  },
  {
   "cell_type": "code",
   "execution_count": 9,
   "id": "363a6635-9bdb-46c6-b3f1-5e02eba64b47",
   "metadata": {},
   "outputs": [],
   "source": [
    "inputs = torch.tensor([[16833, 3626, 6100],   # [\"every effort moves\",\n",
    "                       [40,    1107, 588]])   #  \"I really like\"]\n",
    "\n",
    "targets = torch.tensor([[3626, 6100, 345  ],  # [\" effort moves you\",\n",
    "                        [1107,  588, 11311]]) #  \" really like chocolate\"]"
   ]
  },
  {
   "cell_type": "markdown",
   "id": "f91b2634-1209-4bae-ad52-ca4529789d46",
   "metadata": {},
   "source": [
    "<div class=\"alert alert-block alert-success\">\n",
    "Feeding the inputs to the model, we obtain the logits vector for the 2 input examples that consist of 3 tokens each.\n",
    "\n",
    "Each of the tokens is a 50,257-dimensional vector corresponding to the size of the vocabulary.\n",
    "\n",
    "Applying the softmax function, we can turn the logits into a tensor of the same dimension containing probability scores.\n",
    "</div>"
   ]
  },
  {
   "cell_type": "code",
   "execution_count": 10,
   "id": "709f5674-22d4-4b26-a02c-415d6e46e502",
   "metadata": {},
   "outputs": [
    {
     "name": "stdout",
     "output_type": "stream",
     "text": [
      "torch.Size([2, 3, 50257])\n"
     ]
    }
   ],
   "source": [
    "with torch.no_grad():\n",
    "    logits = model(inputs)\n",
    "\n",
    "probas = torch.softmax(logits, dim=-1) # Probability of each token in vocabulary\n",
    "print(probas.shape) # Shape: (batch_size, num_tokens, vocab_size)"
   ]
  },
  {
   "cell_type": "markdown",
   "id": "7aac0ad7-bb08-4097-866c-81678f60c830",
   "metadata": {},
   "source": [
    "<div class=\"alert alert-block alert-success\">\n",
    "\n",
    "As discussed in the previous section, we can apply the argmax function to convert theprobability scores into predicted token IDs.\n",
    "\n",
    "The softmax function above produced a 50,257-dimensional vector for each token; the argmax function returns the position of the highest probability score in this vector, which is the predicted token ID for the given token.\n",
    "\n",
    "Since we have 2 input batches with 3 tokens each, we obtain 2 by 3 predicted token IDs.\n",
    "</div>"
   ]
  },
  {
   "cell_type": "code",
   "execution_count": 11,
   "id": "303b4a4b-1505-4bfe-85d4-f19537a6fbff",
   "metadata": {},
   "outputs": [
    {
     "name": "stdout",
     "output_type": "stream",
     "text": [
      "Token IDs:\n",
      " tensor([[[24926],\n",
      "         [49334],\n",
      "         [45732]],\n",
      "\n",
      "        [[ 3401],\n",
      "         [13257],\n",
      "         [46567]]])\n"
     ]
    }
   ],
   "source": [
    "token_ids = torch.argmax(probas, dim=-1, keepdim=True)\n",
    "print(\"Token IDs:\\n\", token_ids)"
   ]
  },
  {
   "cell_type": "markdown",
   "id": "54694150-4e7a-4991-a0a4-4501e4a8ea21",
   "metadata": {},
   "source": [
    "<div class=\"alert alert-block alert-success\">\n",
    "\n",
    "If we decode these tokens, we find that these are quite different from the tokens we want the model to predict, namely the target tokens.\n",
    "\n",
    "That's because the model wasn't trained yet.\n",
    "\n",
    "To train the model, we need to know how far it is away from the correct predictions (targets).\n",
    "</div>"
   ]
  },
  {
   "cell_type": "code",
   "execution_count": 12,
   "id": "4951573b-bf87-4064-b78f-b5ae0aca7113",
   "metadata": {},
   "outputs": [
    {
     "name": "stdout",
     "output_type": "stream",
     "text": [
      "Targets batch 1:  effort moves you\n",
      "Outputs batch 1:  huhbrainer Harding\n"
     ]
    }
   ],
   "source": [
    "print(f\"Targets batch 1: {token_ids_to_text(targets[0], tokenizer)}\")\n",
    "print(f\"Outputs batch 1: {token_ids_to_text(token_ids[0].flatten(), tokenizer)}\")"
   ]
  },
  {
   "cell_type": "markdown",
   "id": "ac37f667-3331-4330-8052-56ac177e84d1",
   "metadata": {},
   "source": [
    "### 4.4.1 Cross-Entropy Loss"
   ]
  },
  {
   "cell_type": "markdown",
   "id": "e50a9212-5474-4ee5-ba44-a031cacf7d11",
   "metadata": {},
   "source": [
    "<div class=\"alert alert-block alert-success\">\n",
    "The token probabilities corresponding to the target indices are as follows:\n",
    "</div>"
   ]
  },
  {
   "cell_type": "code",
   "execution_count": 13,
   "id": "2132b105-c4b5-435a-85eb-0134fc9ed32c",
   "metadata": {},
   "outputs": [
    {
     "name": "stdout",
     "output_type": "stream",
     "text": [
      "Text 1: tensor([9.0643e-06, 6.8038e-06, 6.5535e-05])\n",
      "Text 2: tensor([1.0236e-04, 2.3294e-05, 1.6344e-05])\n"
     ]
    }
   ],
   "source": [
    "text_idx = 0\n",
    "target_probas_1 = probas[text_idx, [0, 1, 2], targets[text_idx]]\n",
    "print(\"Text 1:\", target_probas_1)\n",
    "\n",
    "text_idx = 1\n",
    "target_probas_2 = probas[text_idx, [0, 1, 2], targets[text_idx]]\n",
    "print(\"Text 2:\", target_probas_2)"
   ]
  },
  {
   "cell_type": "markdown",
   "id": "72c6d381-7b7a-4b11-b2e3-5cb5acf6eba3",
   "metadata": {},
   "source": [
    "<div class=\"alert alert-block alert-success\">\n",
    "\n",
    "We want to maximize all these values, bringing them close to a probability of 1.\n",
    "\n",
    "In mathematical optimization, it is easier to maximize the logarithm of the probability score than the probability score itself.\n",
    "</div>"
   ]
  },
  {
   "cell_type": "code",
   "execution_count": 14,
   "id": "3e65405f-5023-419a-ba7e-efd56d94f0a8",
   "metadata": {},
   "outputs": [
    {
     "name": "stdout",
     "output_type": "stream",
     "text": [
      "tensor([-11.6112, -11.8980,  -9.6329,  -9.1870, -10.6673, -11.0216])\n"
     ]
    }
   ],
   "source": [
    "# Compute logarithm of all token probabilities\n",
    "log_probas = torch.log(torch.cat((target_probas_1, target_probas_2)))\n",
    "print(log_probas)"
   ]
  },
  {
   "cell_type": "markdown",
   "id": "5bc60899-fe26-4e19-a4fd-55dd9093710c",
   "metadata": {},
   "source": [
    "<div class=\"alert alert-block alert-success\">\n",
    "\n",
    "Next, we compute the average log probability:\n",
    "</div>"
   ]
  },
  {
   "cell_type": "code",
   "execution_count": 15,
   "id": "eb12e499-67a9-4c86-a984-8984246272c5",
   "metadata": {},
   "outputs": [
    {
     "name": "stdout",
     "output_type": "stream",
     "text": [
      "tensor(-10.6697)\n"
     ]
    }
   ],
   "source": [
    "# Calculate the average probabililty for each token\n",
    "avg_log_probas = torch.mean(log_probas)\n",
    "print(avg_log_probas)"
   ]
  },
  {
   "cell_type": "markdown",
   "id": "ff6b320a-0555-4d07-86b1-149129c2b13f",
   "metadata": {},
   "source": [
    "<div class=\"alert alert-block alert-success\">\n",
    "\n",
    "The goal is to make this average log probability as large as possible by optimizing the model weights.\n",
    "\n",
    "Due to the log, the largest possible value is 0, and we are currently far away from 0.\n",
    "\n",
    "In deep learning, instead of maximizing the average log-probability, it's a standard convention to minimize the negative average log-probability value; in our case, instead of maximizing -10.6697 so that it approaches 0, we would maximize 10.6697 so that it approaches 0.\n",
    "\n",
    "The negative value of -10.6697, i.e., 10.6697, is also called **cross-entropy loss** in deep learning.\n",
    "</div>"
   ]
  },
  {
   "cell_type": "code",
   "execution_count": 16,
   "id": "d0ba7972-4829-4b69-ac5f-79e6b4186e6a",
   "metadata": {},
   "outputs": [
    {
     "name": "stdout",
     "output_type": "stream",
     "text": [
      "tensor(10.6697)\n"
     ]
    }
   ],
   "source": [
    "neg_avg_log_probas = avg_log_probas * -1\n",
    "print(neg_avg_log_probas)"
   ]
  },
  {
   "cell_type": "markdown",
   "id": "38045d8e-9d09-4c27-afb1-5411c1380d07",
   "metadata": {},
   "source": [
    "### 4.4.2 Cross-Entropy Loss Using PyTorch's Optimized Function\n",
    "\n"
   ]
  },
  {
   "cell_type": "markdown",
   "id": "7b6dd5c7-2cf3-4f01-97ee-f26c1e904929",
   "metadata": {},
   "source": [
    "<div class=\"alert alert-block alert-success\">\n",
    "\n",
    "Thankfully, we don't have to do all that math manually. PyTorch provides a highly optimized `cross_entropy` function that performs the softmax and log-probability calculations for us.\n",
    "\n",
    "Before we can use it, we need to reshape our `logits` and `targets` tensors. The function expects the `logits` to have the shape `(N, C)` where `C` is the number of classes (our `vocab_size`), so we will flatten the batch and token dimensions together.\n",
    "</div>"
   ]
  },
  {
   "cell_type": "code",
   "execution_count": 17,
   "id": "30163929-a78a-48a4-8ee1-30d759241d43",
   "metadata": {},
   "outputs": [
    {
     "name": "stdout",
     "output_type": "stream",
     "text": [
      "Logits shape: torch.Size([2, 3, 50257])\n",
      "Targets shape: torch.Size([2, 3])\n"
     ]
    }
   ],
   "source": [
    "# Logits have shape (batch_size, num_tokens, vocab_size)\n",
    "print(\"Logits shape:\", logits.shape)\n",
    "\n",
    "# Targets have shape (batch_size, num_tokens)\n",
    "print(\"Targets shape:\", targets.shape)"
   ]
  },
  {
   "cell_type": "markdown",
   "id": "5b60c38b-dc74-4a13-920b-1319d48f343c",
   "metadata": {},
   "source": [
    "<div class=\"alert alert-block alert-success\">\n",
    "\n",
    "For the **cross_entropy** function in PyTorch, we want to flatten these tensors by combining them over the batch dimension:\n",
    "</div>"
   ]
  },
  {
   "cell_type": "code",
   "execution_count": 18,
   "id": "98ca5f8a-d285-4421-8c37-8014732ecdd9",
   "metadata": {},
   "outputs": [
    {
     "name": "stdout",
     "output_type": "stream",
     "text": [
      "Flattened logits shape: torch.Size([6, 50257])\n",
      "Flattened targets shape: torch.Size([6])\n"
     ]
    }
   ],
   "source": [
    "logits_flat = logits.flatten(0, 1)\n",
    "targets_flat = targets.flatten()\n",
    "\n",
    "print(\"Flattened logits shape:\", logits_flat.shape)\n",
    "print(\"Flattened targets shape:\", targets_flat.shape)"
   ]
  },
  {
   "cell_type": "markdown",
   "id": "390aaab1-62e0-432e-9be0-a01cd46a7f65",
   "metadata": {},
   "source": [
    "<div class=\"alert alert-block alert-success\">\n",
    "\n",
    "Note that the targets are the token IDs, which also represent the index positions in the logits tensor that we want to maximize.\n",
    "\n",
    "The cross_entropy function in PyTorch will automatically take care of applying the softmax and log-probability computation internally over those token indices in the logits that are to be maximized.\n",
    "</div>"
   ]
  },
  {
   "cell_type": "code",
   "execution_count": 19,
   "id": "11069fc5-f8d2-409c-a4f0-0edfac65ee4f",
   "metadata": {},
   "outputs": [
    {
     "name": "stdout",
     "output_type": "stream",
     "text": [
      "tensor(10.6697)\n"
     ]
    }
   ],
   "source": [
    "loss = torch.nn.functional.cross_entropy(logits_flat, targets_flat)\n",
    "print(loss)"
   ]
  },
  {
   "cell_type": "markdown",
   "id": "3136de6d-e06a-4d89-9b1c-634bab365615",
   "metadata": {},
   "source": [
    "### 4.4.3 Perplexity"
   ]
  },
  {
   "cell_type": "markdown",
   "id": "d5814160-9401-4db6-9c3b-f4e0e3d39887",
   "metadata": {},
   "source": [
    "<div class=\"alert alert-block alert-success\">\n",
    "    <b>From Loss to an Interpretable Metric: Perplexity</b><br>\n",
    "    A concept directly related to cross-entropy is <b>perplexity</b>. It is simply the exponential of the cross-entropy loss:\n",
    "    <br><br>\n",
    "    $$ \\text{Perplexity} = e^{\\text{Cross-Entropy Loss}} $$\n",
    "    <br>\n",
    "</div>"
   ]
  },
  {
   "cell_type": "code",
   "execution_count": 20,
   "id": "cb47553e-e678-4dc0-b4af-7bbd2b417320",
   "metadata": {},
   "outputs": [
    {
     "name": "stdout",
     "output_type": "stream",
     "text": [
      "tensor(43031.3984)\n"
     ]
    }
   ],
   "source": [
    "perplexity = torch.exp(loss)\n",
    "print(perplexity)"
   ]
  },
  {
   "cell_type": "markdown",
   "id": "340aa3c7-874e-4210-837b-eb2479a9691b",
   "metadata": {},
   "source": [
    "<div class=\"alert alert-block alert-success\">\n",
    "\n",
    "The **perplexity** is often considered more interpretable because it can be understood as the effective vocabulary size that the model is uncertain about at each step (in the example above, that would be 43,031 words or tokens).\n",
    "\n",
    "In other words, perplexity provides a measure of how well the probability distribution predicted by the model matches the actual distribution of the words in the dataset.\n",
    "\n",
    "Similar to the loss, a lower perplexity indicates that the model predictions are closer to the actual distribution.\n",
    "</div>"
   ]
  },
  {
   "cell_type": "markdown",
   "id": "d58679b3-ebc6-4627-825d-123726da0d21",
   "metadata": {},
   "source": [
    "## 4.5 Setting Up the Dataset and Loss Functions"
   ]
  },
  {
   "cell_type": "markdown",
   "id": "3e5163b0-25a4-4579-b6b6-ea19cb9c7c49",
   "metadata": {},
   "source": [
    "<div class=\"alert alert-block alert-success\">\n",
    "\n",
    "For this project, we will train our LLM on a relatively small dataset: a single short story. There are several practical reasons for this choice:\n",
    "\n",
    "<ul>\n",
    "    <li><b>Accessibility:</b> We can run all the code examples in a few minutes on a standard laptop without needing a powerful GPU.</li>\n",
    "    <li><b>Speed:</b> The training process finishes quickly, whihc is ideal for experimentation.</li>\n",
    "    <li><b>Licensing:</b> The text is in the public domain, so it can be included in this repository without any usage rights issues.</li>\n",
    "</ul>\n",
    "\n",
    "<div class=\"alert alert-block alert-info\">\n",
    "    <b>A Note on Real-World Scale</b><br>\n",
    "    While our dataset has about 5,000 tokens, it's important to understand the scale of real-world models. For example, training Llama 2 (7B) required <b>2 trillion tokens</b> and approximately <b>$700,000</b> in cloud computing costs.\n",
    "</div>\n",
    "\n",
    "With our small dataset, the next step is to divide it into a training set (for the model to learn from) and a validation set (to check the model's performance on unseen data).\n",
    "</div>"
   ]
  },
  {
   "cell_type": "markdown",
   "id": "926a0ced-2aba-4cab-863e-55135ec9ccad",
   "metadata": {},
   "source": [
    "### 4.5.1 Preparing the DataLoaders"
   ]
  },
  {
   "cell_type": "markdown",
   "id": "2859de87-cdce-4c6a-8566-9c6711286854",
   "metadata": {},
   "source": [
    "<div class=\"alert alert-block alert-success\">\n",
    "\n",
    "We will use the same text corpus (\"The Verdict\") and the same datga loader from our previous work. The process involves:\n",
    "\n",
    "1. Loading the text file.\n",
    "2. Splitting it into a 90% training set and 10% validation set.\n",
    "3. Using our `GPTDatasetV1` and `create_dataloader` class and function to create data loaders that will feed the data to our model in batches.\n",
    "\n",
    "</div>"
   ]
  },
  {
   "cell_type": "code",
   "execution_count": 21,
   "id": "31738941-077c-4aa7-8c83-3ed40097f267",
   "metadata": {},
   "outputs": [
    {
     "name": "stdout",
     "output_type": "stream",
     "text": [
      "File '../data/the-verdict.txt' already exists. Loading fomr disk...\n",
      "Load complete.\n",
      "\n",
      "Characters: 20479\n",
      "Tokens: 5145\n"
     ]
    }
   ],
   "source": [
    "# 1. Load the data\n",
    "file_path = \"../data/the-verdict.txt\"\n",
    "url = \"https://raw.githubusercontent.com/JotaCe7/llm-text-preprocessing/main/data/the-verdict.txt\"\n",
    "text_data = load_data(file_path=file_path, url=url)\n",
    "\n",
    "total_characters = len(text_data)\n",
    "total_tokens = len(tokenizer.encode(text_data))\n",
    "\n",
    "print(\"\\nCharacters:\", total_characters)\n",
    "print(\"Tokens:\", total_tokens)"
   ]
  },
  {
   "cell_type": "code",
   "execution_count": 22,
   "id": "4feca2f5-b41d-454a-92fe-296bd5f18bf5",
   "metadata": {},
   "outputs": [
    {
     "name": "stdout",
     "output_type": "stream",
     "text": [
      "Characters in training set: 18,431\n",
      "Characters in validation set: 2,048\n"
     ]
    }
   ],
   "source": [
    "# 2. Split the data into training and validation sets\n",
    "train_ratio = 0.90\n",
    "split_idx = int(train_ratio * len(text_data))\n",
    "train_data = text_data[:split_idx]\n",
    "val_data = text_data[split_idx:]\n",
    "\n",
    "print(f\"Characters in training set: {len(train_data):,}\")\n",
    "print(f\"Characters in validation set: {len(val_data):,}\")"
   ]
  },
  {
   "cell_type": "code",
   "execution_count": 23,
   "id": "590cee40-4d8f-4e82-bf99-73b7dfd6fc15",
   "metadata": {},
   "outputs": [
    {
     "name": "stdout",
     "output_type": "stream",
     "text": [
      "Train loader:\n",
      "torch.Size([2, 256]) torch.Size([2, 256])\n",
      "torch.Size([2, 256]) torch.Size([2, 256])\n",
      "torch.Size([2, 256]) torch.Size([2, 256])\n",
      "torch.Size([2, 256]) torch.Size([2, 256])\n",
      "torch.Size([2, 256]) torch.Size([2, 256])\n",
      "torch.Size([2, 256]) torch.Size([2, 256])\n",
      "torch.Size([2, 256]) torch.Size([2, 256])\n",
      "torch.Size([2, 256]) torch.Size([2, 256])\n",
      "torch.Size([2, 256]) torch.Size([2, 256])\n",
      "\n",
      "Validation loader:\n",
      "torch.Size([2, 256]) torch.Size([2, 256])\n",
      "9 tarining batches\n",
      "1 validation batches\n",
      "\n",
      "Training tokens: 4608\n",
      "Validation tokens: 512\n",
      "All tokens: 5120\n"
     ]
    }
   ],
   "source": [
    "# 3. Create the data loaders\n",
    "torch.manual_seed(100)\n",
    "\n",
    "train_loader = create_dataloader(\n",
    "    train_data,\n",
    "    batch_size=2,\n",
    "    max_length=GPT_CONFIG_124M[\"context_length\"],\n",
    "    stride=GPT_CONFIG_124M[\"context_length\"],\n",
    "    shuffle=True,\n",
    "    drop_last=True\n",
    ")\n",
    "\n",
    "val_loader = create_dataloader(\n",
    "    val_data,\n",
    "    batch_size=2,\n",
    "    max_length=GPT_CONFIG_124M[\"context_length\"],\n",
    "    stride=GPT_CONFIG_124M[\"context_length\"],\n",
    "    shuffle=False,\n",
    "    drop_last=False\n",
    ")\n",
    "\n",
    "# Optional check to validate datakiader were created correctly\n",
    "print(\"Train loader:\")\n",
    "for x, y in train_loader:\n",
    "    print(x.shape, y.shape)\n",
    "\n",
    "print(\"\\nValidation loader:\")\n",
    "for x, y in val_loader:\n",
    "    print(x.shape, y.shape)\n",
    "print(f\"{len(train_loader)} tarining batches\")\n",
    "print(f\"{len(val_loader)} validation batches\")\n",
    "\n",
    "train_tokens = 0\n",
    "for input_batch, target_batch in train_loader:\n",
    "    train_tokens += input_batch.numel()\n",
    "\n",
    "val_tokens = 0\n",
    "for input_batch, target_batch in val_loader:\n",
    "    val_tokens += input_batch.numel()\n",
    "\n",
    "print(\"\\nTraining tokens:\", train_tokens)\n",
    "print(\"Validation tokens:\", val_tokens)\n",
    "print(\"All tokens:\", train_tokens + val_tokens)"
   ]
  },
  {
   "cell_type": "code",
   "execution_count": 24,
   "id": "01ec8b2a-f812-48cc-8e5c-b3ca9686b160",
   "metadata": {},
   "outputs": [],
   "source": [
    "# Sanity check\n",
    "\n",
    "if total_tokens * (train_ratio) < GPT_CONFIG_124M[\"context_length\"]:\n",
    "    print(\"Not enough tokens for the training loader. \"\n",
    "          \"Try to lower the `GPT_CONFIG_124M['context_length']` or \"\n",
    "          \"increase the `training_ratio`\")\n",
    "\n",
    "if total_tokens * (1-train_ratio) < GPT_CONFIG_124M[\"context_length\"]:\n",
    "    print(\"Not enough tokens for the validation loader. \"\n",
    "          \"Try to lower the `GPT_CONFIG_124M['context_length']` or \"\n",
    "          \"decrease the `training_ratio`\")"
   ]
  },
  {
   "cell_type": "markdown",
   "id": "ba1d3e87-bfdd-4895-9fe0-af70efd204ab",
   "metadata": {},
   "source": [
    "### 4.5.2 Defining the Loss Function"
   ]
  },
  {
   "cell_type": "markdown",
   "id": "f46189b3-5e83-48a9-8544-9ac1e7364b9d",
   "metadata": {},
   "source": [
    "<div class=\"alert alert-block alert-success\">\n",
    "\n",
    "Next, we need functions to calculate the loss. We will use **cross-entropy loss**, which is the standard for language models. The `calc_loss_batch` function computes the loss for a single batch, and `calc_loss_loader` will average the loss over multiple batches from a data loader.\n",
    "</div>"
   ]
  },
  {
   "cell_type": "code",
   "execution_count": 25,
   "id": "02d6c5a1-ede9-4a67-90f7-a7ad23931598",
   "metadata": {},
   "outputs": [],
   "source": [
    "def calc_loss_batch(input_batch, target_batch, model, device):\n",
    "    input_batch, target_batch = input_batch.to(device), target_batch.to(device)\n",
    "    logits = model(input_batch)\n",
    "    loss = torch.nn.functional.cross_entropy(logits.flatten(0, 1), target_batch.flatten())\n",
    "    return loss\n",
    "\n",
    "def calc_loss_loader(data_loader, model, device, num_batches=None):\n",
    "    total_loss = 0\n",
    "    if num_batches is None:\n",
    "        num_batches = len(data_loader)\n",
    "    else:\n",
    "        num_batches = min(num_batches, len(data_loader))\n",
    "\n",
    "    for i, (input_batch, target_batch) in enumerate(data_loader):\n",
    "        if i <num_batches:\n",
    "            loss = calc_loss_batch(input_batch, target_batch, model, device)\n",
    "            total_loss += loss.item()\n",
    "        else:\n",
    "            break\n",
    "    return total_loss / num_batches"
   ]
  },
  {
   "cell_type": "markdown",
   "id": "64816873-0400-4fc1-b1a7-b3e83b495918",
   "metadata": {},
   "source": [
    "<div class=\"alert alert-block alert-success\">\n",
    "\n",
    "Now, let's calculate the initial loss on our training and validation sets before any training has occurred. This gives us a baseline to measure our progress against\n",
    "</div>"
   ]
  },
  {
   "cell_type": "code",
   "execution_count": 26,
   "id": "e9c18855-924c-4ab5-8eab-521734cf69c8",
   "metadata": {},
   "outputs": [
    {
     "name": "stdout",
     "output_type": "stream",
     "text": [
      "Initial Training loss: 10.980\n",
      "Initial Validation loss: 10.959\n"
     ]
    }
   ],
   "source": [
    "# Set the devive\n",
    "device = torch.device('cuda' if torch.cuda.is_available() else \"cpu\")\n",
    "model.to(device)\n",
    "\n",
    "# Calculte initial losses\n",
    "with torch.no_grad(): # Disable gradient tracking for this calculation\n",
    "    train_loss = calc_loss_loader(train_loader, model, device)\n",
    "    val_loss = calc_loss_loader(val_loader, model, device)\n",
    "\n",
    "print(f\"Initial Training loss: {train_loss:.3f}\")\n",
    "print(f\"Initial Validation loss: {val_loss:.3f}\")"
   ]
  },
  {
   "cell_type": "markdown",
   "id": "4602600d-aa9b-46a4-bed9-e80497b94dde",
   "metadata": {},
   "source": [
    "## 4.6 Implementing and Running the Training Loop"
   ]
  },
  {
   "cell_type": "markdown",
   "id": "20ee4585-41f9-46d3-a38c-d05bf644d61b",
   "metadata": {},
   "source": [
    "<div class=\"alert alert-block alert-success\">\n",
    "\n",
    "With our data loaders and loss functions ready, we have all the preerquisites for training. We will now define the main thaining function that iterate over the data, computes the loss, and updates the model weights's.\n",
    "</div>"
   ]
  },
  {
   "cell_type": "markdown",
   "id": "e1fab333-9ecd-4f0c-9083-85f44df98854",
   "metadata": {},
   "source": [
    "### 4.6.1 Defining the Training and Evaluation Functions"
   ]
  },
  {
   "cell_type": "markdown",
   "id": "ac2098e1-7350-4fa2-b6bf-f063aa996ef6",
   "metadata": {},
   "source": [
    "<div class=\"alert alert-block alert-success\">\n",
    "\n",
    "We need three helper functions for our training process:\n",
    "\n",
    "* **`train_model_simple:`** The main function that contains the training loop over multiple epochs.\n",
    "* **`evaluate_model:`** A function to periodically calculate the loss on the training and validation sets to monitor performance.\n",
    "* **`generate_and_print_sample:`** A function to generate sample text after each epoch so we can qualitatively see how the model is improving.\n",
    "</div>"
   ]
  },
  {
   "cell_type": "code",
   "execution_count": 27,
   "id": "c4cdddba-80da-4716-b073-fe0c8cbe9617",
   "metadata": {},
   "outputs": [],
   "source": [
    "def evaluate_model(model, train_loader, val_loader, device, eval_iter):\n",
    "    model.eval()\n",
    "    with torch.no_grad():\n",
    "        train_loss = calc_loss_loader(train_loader, model, device, num_batches=eval_iter)\n",
    "        val_loss = calc_loss_loader(val_loader, model, device, num_batches=eval_iter)\n",
    "    model.train\n",
    "    return train_loss, val_loss\n",
    "\n",
    "def generate_and_print_sample(model, tokenizer, device, start_context, max_new_tokens=50):\n",
    "    model.eval()\n",
    "    context_size = model.pos_emb.weight.shape[0]\n",
    "    encoded = text_to_token_ids(start_context, tokenizer).to(device)\n",
    "    with torch.no_grad():\n",
    "        token_ids = generate_text_simple(\n",
    "            model=model, idx=encoded,\n",
    "            max_new_tokens=max_new_tokens,\n",
    "            context_size=context_size\n",
    "        )\n",
    "    decoded_text = token_ids_to_text(token_ids, tokenizer)\n",
    "    print(decoded_text.replace(\"\\n\", \" \"))\n",
    "    model.train()\n",
    "\n",
    "def train_model_simple(model, train_loader, val_loader, optimizer, device, num_epochs,\n",
    "                       eval_freq, eval_iter, start_context, tokenizer):\n",
    "    # Initialize lists to track losses and tokens seen\n",
    "    train_losses, val_losses, track_tokens_seen = [], [], []\n",
    "    tokens_seen, global_step = 0, -1\n",
    "\n",
    "    # Main training loop\n",
    "    for epoch in range(num_epochs):\n",
    "        model.train()\n",
    "\n",
    "        for input_batch, target_batch in train_loader:\n",
    "            optimizer.zero_grad() # Reset loss gradients from previous batch iteration\n",
    "            loss = calc_loss_batch(input_batch, target_batch, model, device)\n",
    "            loss.backward() # Calculate loss gradients\n",
    "            optimizer.step() # Update model weights using loss gradients\n",
    "            tokens_seen += input_batch.numel() # Returns the total number of elements (or tokens) in the input_batch.\n",
    "            global_step += 1\n",
    "\n",
    "            # Optional evaluation step\n",
    "            if global_step % eval_freq == 0:\n",
    "                train_loss, val_loss = evaluate_model(\n",
    "                    model, train_loader, val_loader, device, eval_iter)\n",
    "                train_losses.append(train_loss)\n",
    "                val_losses.append(val_loss)\n",
    "                track_tokens_seen.append(tokens_seen)\n",
    "                print(f\"Ep. {epoch+1} (Step {global_step:06d}): \"\n",
    "                      f\"Train loss {train_loss:3f}, Val loss {val_loss:3f}\")\n",
    "\n",
    "                # Print a sample text after each epoch\n",
    "                generate_and_print_sample(\n",
    "                    model, tokenizer, device, start_context)\n",
    "\n",
    "    return train_losses, val_losses, track_tokens_seen\n",
    "            "
   ]
  },
  {
   "cell_type": "markdown",
   "id": "6c8dbc97-556c-44ca-9db4-b1029d172fab",
   "metadata": {},
   "source": [
    "### 4.6.2 Kicking Off the Trainig Run"
   ]
  },
  {
   "cell_type": "markdown",
   "id": "b28f3d61-85de-451c-8aae-626c0e07b48e",
   "metadata": {},
   "source": [
    "<div class=\"alert alert-block alert-success\">\n",
    "\n",
    "With all our helper function defined, we are finally ready to train our GPT model! We will instantiate a new model and a and an AddamW optimizer, then call our main training function for 10 epochs.\n",
    "</div>"
   ]
  },
  {
   "cell_type": "code",
   "execution_count": 31,
   "id": "486dd718-bee5-4a41-ad85-abd00f68792b",
   "metadata": {},
   "outputs": [
    {
     "name": "stdout",
     "output_type": "stream",
     "text": [
      "Ep. 1 (Step 000000): Train loss 9.912392, Val loss 10.146250\n",
      "Every effort moves you the the the the the the the the the the the the the the the the the the the the the the the the the the the the the the the the the the the the the the, the the the the the the the the the the the\n",
      "Ep. 1 (Step 000005): Train loss 8.021554, Val loss 8.372361\n",
      "Every effort moves you,,,,,,,,,,,,,,,,,,,,,,,,,,,,,,,,,,,,,,,,,,,,,,,,,,\n",
      "Ep. 2 (Step 000010): Train loss 6.659008, Val loss 7.080389\n",
      "Every effort moves you.                                                 \n",
      "Ep. 2 (Step 000015): Train loss 6.045608, Val loss 6.617142\n",
      "Every effort moves you, the, the, the, the, the, the, the, the, the, the, the, the, the, the, the, the, the, the, the, the, the, the, the, the, the\n",
      "Ep. 3 (Step 000020): Train loss 5.465610, Val loss 6.449451\n",
      "Every effort moves you, and, and\", and, and, and, and I had the, and, and I of the, and, and, and, and, and, and, and, and, and, and, and, and, and of\n",
      "Ep. 3 (Step 000025): Train loss 5.359938, Val loss 6.440866\n",
      "Every effort moves you, and to the                                              \n",
      "Ep. 4 (Step 000030): Train loss 5.256047, Val loss 6.383637\n",
      "Every effort moves you to the to the picture to the I had the picture--I a                                    \n",
      "Ep. 4 (Step 000035): Train loss 4.850055, Val loss 6.416106\n",
      "Every effort moves you to the to the picture a a. Gisburn--as a little a little that of the picture--and I had the picture to the picture--as was a little--I a little it--as, and \" \" of the picture of\n",
      "Ep. 5 (Step 000040): Train loss 4.336968, Val loss 6.278005\n",
      "Every effort moves you to see to see a little--I had the picture--as and in the picture to see a little--I, and I had to see it--the the picture to see it--I he had the picture, and I had been to see\n",
      "Ep. 6 (Step 000045): Train loss 4.099913, Val loss 6.354907\n",
      "Every effort moves you know that, I felt I felt as I felt nervous and Mrs. \"I felt he had been--and I felt to see it was a little his pictures--I felt--as, I saw that, I felt, I felt I felt\n",
      "Ep. 6 (Step 000050): Train loss 3.118167, Val loss 6.188000\n",
      "Every effort moves you know that, and in the picture. Gisburn--as the end of the fact, and I had been, and his pictures to the end of his pictures to have been--as if he had been his pictures--his, in the picture\n",
      "Ep. 7 (Step 000055): Train loss 3.017391, Val loss 6.223173\n",
      "Every effort moves you know that, and I was a     \"I must--I didn't--I looked up, I felt to see a smile behind his close grayish beard--as if he had the secret, and were, and I had\n",
      "Ep. 7 (Step 000060): Train loss 2.489498, Val loss 6.250611\n",
      "Every effort moves you of the inevitable garlanded frame. The mere outline of the frame. Gisburn had always's past!  \"I didn't you know back the window-curtains, I had the secret, the fact--and I had\n",
      "Ep. 8 (Step 000065): Train loss 2.141709, Val loss 6.217545\n",
      "Every effort moves you know that, on a little wild--I felt nervous and uncertain.  \"Once, when I looked up, I felt to see a smile behind his close grayish beard--as if he had the secret, and were amusing himself by his\n",
      "Ep. 8 (Step 000070): Train loss 1.734339, Val loss 6.253887\n",
      "Every effort moves you know that mighty up-stream stroke.    \"I looked up and I felt him, and Mrs. \"I must a smile behind his close grayish beard--as if he had the donkey.  \"I didn't\n",
      "Ep. 9 (Step 000075): Train loss 1.412538, Val loss 6.289547\n",
      "Every effort moves you?\"                          I a smile behind his close grayish beard--as if he had the donkey. \"strongest,\" he had\n",
      "Ep. 9 (Step 000080): Train loss 1.114690, Val loss 6.318080\n",
      "Every effort moves you?\"  \"Yes--I glanced after him, and Mrs. Stroud so when he had the me to me to the cigars you like.\"  He placed them at my elbow and as I had been the \"strongest,\" as his\n",
      "Ep. 10 (Step 000085): Train loss 0.895781, Val loss 6.393708\n",
      "Every effort moves you?\"  \"Yes--quite insensible to the fact with a little: \"Yes--and by me to me to the fact that, when, on a later day, I had again run over from his ease--because he didn't want\n",
      "Training completed in 0.618973 minutes.\n"
     ]
    }
   ],
   "source": [
    "import time\n",
    "\n",
    "start_time = time.time()\n",
    "\n",
    "torch.manual_seed(100)\n",
    "model = GPTModel(GPT_CONFIG_124M)\n",
    "model.to(device)\n",
    "\n",
    "optimizer = torch.optim.AdamW(model.parameters(), lr=0.0004, weight_decay=0.1)\n",
    "\n",
    "num_epochs = 10\n",
    "train_losses, val_losses, tokens_seen = train_model_simple(\n",
    "    model, train_loader, val_loader, optimizer, device,\n",
    "    num_epochs=num_epochs, eval_freq=5, eval_iter=5,\n",
    "    start_context=\"Every effort moves you\", tokenizer=tokenizer\n",
    ")\n",
    "\n",
    "end_time = time.time()\n",
    "\n",
    "execution_time_minutes = (end_time - start_time) / 60\n",
    "print(f\"Training completed in {execution_time_minutes:2f} minutes.\")"
   ]
  },
  {
   "cell_type": "markdown",
   "id": "11244af8-8ed5-4750-a5ff-ead4eb39cc9a",
   "metadata": {},
   "source": [
    "<div class=\"alert alert-block alert-success\">\n",
    "\n",
    "As we can see, based on the results printed during the training, the training loss improves drastically, starting with a value of 9.912392 and converging to 0.895781.\n",
    "\n",
    "The language sikills of the model have improvded quite a lot too. In the beginning, the model is only able to append commas to the start context (\"Every effort moves you,,,,,,,,,,,,,,,,,,,,,,,,,,,,,,,,,,,,,,,,,,,,,,,,,,\") or repeat the worl \"the\"/\"and\".\n",
    "\n",
    "At the end of the training, it can generate grammatically correct text.\n",
    "</div>"
   ]
  },
  {
   "cell_type": "markdown",
   "id": "75b10c62-3fc8-4710-a8c4-f545f9f55721",
   "metadata": {},
   "source": [
    "<div class=\"alert alert-block alert-success\">\n",
    "\n",
    "Similar to the training set loss, we can see that the validation set loss starts high (10.146250) and decreases during the training.\n",
    "\n",
    "However, it never becomes as small as the training set loss and remains at 6.393708 after the 10th epoch.\n",
    "</div>"
   ]
  },
  {
   "cell_type": "markdown",
   "id": "7cac43b1-d0b3-46e6-9b6b-7f07f0ed5e16",
   "metadata": {},
   "source": [
    "<div class=\"alert alert-block alert-info\">\n",
    "    \n",
    "  <b>A Note on the AdamW Optimizer</b><br>\n",
    "  \n",
    "  The <b>AdamW optimizer</b> is a modern and powerful algorithm that has become a standard and highly recommended choice for training large language models like GPT. It enhances the popular Adam optimizer with an improved implementation of weight decay.\n",
    "\n",
    "  <ul>\n",
    "    <li><b>Adaptive Learning Rates:</b> Like Adam, it maintains a unique, adaptive learning rate for every single weight in the model. This means it can learn faster on some parameters and more cautiously on others.</li>\n",
    "    <li><b>Momentum:</b> It uses momentum, which is like a memory of past gradients, to help it move more consistently in the right direction during optimization.</li>\n",
    "    <li><b>Improved Weight Decay (\"W\"):</b> The 'W' in AdamW stands for Weight Decay. It fixes a flaw in the original Adam's implementation of weight decay (a regularization technique that helps prevent overfitting). This decoupled approach often leads to better model performance and generalization.</li>\n",
    "  </ul>\n",
    "  \n",
    "  Because of its robustness and effectiveness, AdamW is now the default optimizer for most transformer-based projects.\n",
    "</div>"
   ]
  },
  {
   "cell_type": "markdown",
   "id": "16166172-8d78-4188-894f-2a97dd5f6b5d",
   "metadata": {},
   "source": [
    "### 4.6.3 Analyzing the Training Results"
   ]
  },
  {
   "cell_type": "markdown",
   "id": "f9f53dbc-b20b-4c00-bfde-ba24809c232b",
   "metadata": {},
   "source": [
    "<div class=\"alert alert-block alert-success\">\n",
    "\n",
    "After training is complete, the best way to understand how the model learned is to plot the training and validation loss curves over time. A decreasing loss indicates that the model is learning the patterns in the text.\n",
    "</div>"
   ]
  },
  {
   "cell_type": "code",
   "execution_count": 56,
   "id": "0b3cb172-b250-4e92-a20d-ef308098b7e5",
   "metadata": {},
   "outputs": [
    {
     "data": {
      "image/png": "[encoded data removed]",
      "text/plain": [
       "<Figure size 1000x500 with 2 Axes>"
      ]
     },
     "metadata": {},
     "output_type": "display_data"
    }
   ],
   "source": [
    "def plot_losses(epochs_seen, tokens_seen,train_losses, val_losses):\n",
    "    \"\"\"Plots the training and validation loss curves.\"\"\"\n",
    "    fig, ax1 = plt.subplots(figsize=(10, 5))\n",
    "\n",
    "    # Plot training and validation losses against epochs\n",
    "    ax1.plot(epochs_seen, train_losses, label=\"Training loss\")\n",
    "    ax1.plot(epochs_seen, val_losses, linestyle=\"-.\", label=\"Validation loss\")\n",
    "    ax1.set_xlabel(\"Epochs\")\n",
    "    ax1.set_ylabel(\"Loss\")\n",
    "    ax1.legend(loc=\"upper right\")\n",
    "    ax1.xaxis.set_major_locator(MaxNLocator(integer=True)) # only show integer labels on bottom x-axis\n",
    "\n",
    "    # Creeate a second x-axis for tokens seen\n",
    "    ax2 = ax1.twiny() # Create a second x-axis that shares the same y-axis\n",
    "    ax2.plot(tokens_seen, train_losses, alpha=0) # Invisible plot for aligning ticks\n",
    "    ax2.set_xlabel(\"Tokens seen\")\n",
    "    ax2.xaxis.set_major_locator(MaxNLocator(integer=True)) # only show integer labels on upper x-axis\n",
    "\n",
    "    fig.tight_layout() # Adjust layout to make room\n",
    "    plt.savefig(\"loss-plot.pdf\")\n",
    "    plt.show()\n",
    "\n",
    "epochs_tensor = torch.linspace(0, num_epochs, len(train_losses))\n",
    "plot_losses(epochs_tensor, tokens_seen, train_losses, val_losses)  \n",
    "    "
   ]
  },
  {
   "cell_type": "markdown",
   "id": "ad4df9a2-69c7-405a-96f8-66caea1b7798",
   "metadata": {},
   "source": [
    "<div class=\"alert alert-block alert-info\">\n",
    "    \n",
    "  <b>Analysis: Interpreting the Loss Curves and Overfitting</b><br>\n",
    "    \n",
    "  The plot clearly shows both the training and validation losses decreasing sharply, which means our model is successfully learning from the data.\n",
    "  \n",
    "  However, notice the growing gap between the training loss and the validation loss. When the validation loss is significantly higher than the training loss (or even starts to increase), it's a classic sign of <b>overfitting</b>. The model is beginning to memorize the small training dataset instead of learning general language patterns, which we can confirm by searching for the generated text snippets, such as `\"I had again run over from\"` in the \"The Verdict\" text file. This is expected because our dataset is tiny and we are training for several epochs. In a real-world scenario with a massive dataset, we would typically only train for a single epoch.\n",
    "</div>"
   ]
  },
  {
   "cell_type": "code",
   "execution_count": null,
   "id": "59fc88ed-2baf-4418-929a-46c6d92f3a7a",
   "metadata": {},
   "outputs": [],
   "source": []
  }
 ],
 "metadata": {
  "kernelspec": {
   "display_name": "Python 3 (ipykernel)",
   "language": "python",
   "name": "python3"
  },
  "language_info": {
   "codemirror_mode": {
    "name": "ipython",
    "version": 3
   },
   "file_extension": ".py",
   "mimetype": "text/x-python",
   "name": "python",
   "nbconvert_exporter": "python",
   "pygments_lexer": "ipython3",
   "version": "3.10.11"
  }
 },
 "nbformat": 4,
 "nbformat_minor": 5
}
