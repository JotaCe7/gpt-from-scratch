{
 "cells": [
  {
   "cell_type": "markdown",
   "id": "68f869dd-0c0e-4980-b956-f942b350be31",
   "metadata": {},
   "source": [
    "# Chapter 3: Building the Full GPT Model"
   ]
  },
  {
   "cell_type": "markdown",
   "id": "f4bb9139-8013-4cc8-a0b3-bfd03715e581",
   "metadata": {},
   "source": [
    "<div class=\"alert alert-block alert-success\">\n",
    "\n",
    "In the previous chapters, we built the core components of a transformer, most importantly the `MultiHeadAttention` module. Now, it's time to assemble these pieces into a complete, functional GPT model.\n",
    "\n",
    "Our approach will be \"top-down.\" First, we will define the high-level architecture of the entire model using simple placeholders for the complex parts. This will help us understand the overall data flow. \n",
    "Then, in the following sections, we will build the real components to replace these placeholders one by one.\n",
    "</div>"
   ]
  },
  {
   "cell_type": "markdown",
   "id": "e4e8727b-d39e-4888-bb95-dff410e2f6d6",
   "metadata": {},
   "source": [
    "## 3.1 Imports and Setup"
   ]
  },
  {
   "cell_type": "markdown",
   "id": "75630c39-103a-482c-8aae-283179b0f12e",
   "metadata": {},
   "source": [
    "<div class=\"alert alert-block alert-success\">\n",
    "As always, we begin by importing the necessary libraries.\n",
    "</div>"
   ]
  },
  {
   "cell_type": "code",
   "execution_count": 3,
   "id": "2d54abba-c497-4f75-95b2-e4163d0cc3e4",
   "metadata": {},
   "outputs": [],
   "source": [
    "# Standard library and third-party imports\n",
    "import sys\n",
    "import os\n",
    "import torch\n",
    "import torch.nn as nn\n",
    "import tiktoken\n",
    "\n",
    "import matplotlib.pyplot as plt\n",
    "\n",
    "# --- Add Project Root to Python Path ---\n",
    "\n",
    "# Get the directory of the current notebook\n",
    "current_notebook_dir = os.getcwd()\n",
    "\n",
    "# Go up one level to the project's root directory\n",
    "project_root = os.path.abspath(os.path.join(current_notebook_dir, '..'))\n",
    "\n",
    "# Add the project root to the Python path if it's not already there\n",
    "if project_root not in sys.path:\n",
    "    sys.path.append(project_root)\n",
    "\n",
    "# --- Imports from your `src` package ---\n",
    "from src.attention import MultiHeadAttention\n",
    "# from gpt_from_scratch.layers import LayerNorm, FeedForward, GELU"
   ]
  },
  {
   "cell_type": "markdown",
   "id": "63285108-d071-4537-89d1-0acf32271fe2",
   "metadata": {
    "jp-MarkdownHeadingCollapsed": true
   },
   "source": [
    "## 3.2 Model Configuration"
   ]
  },
  {
   "cell_type": "markdown",
   "id": "948a76ac-9a34-44da-9203-d2562f328e9f",
   "metadata": {},
   "source": [
    "<div class=\"alert alert-block alert-success\">\n",
    "First, let's define a configuration dictionary that will hold all the hyperparameters for our model. We will base this on the parameters of the original GPT-2 \"small\" model, which has 124 million parameters.\n",
    "</div>"
   ]
  },
  {
   "cell_type": "code",
   "execution_count": 11,
   "id": "45dde7b4-05bc-41ef-8f87-a6b66a145789",
   "metadata": {},
   "outputs": [],
   "source": [
    "GPT_CONFIG_124M = {\n",
    "    \"vocab_size\": 50257,     # Vocabulary size\n",
    "    \"context_length\": 1024,  # Context length\n",
    "    \"emb_dim\": 768,          # Embedding dimension\n",
    "    \"n_heads\": 12,           # Number of attention heads\n",
    "    \"n_layers\": 12,          # Number of layers\n",
    "    \"dropout_rate\": 0.1,        # Dropout rate\n",
    "    \"qkv_bias\": False        # Query-Key-Value bias in attention\n",
    "}"
   ]
  },
  {
   "cell_type": "markdown",
   "id": "8788492b-e698-4f49-8042-68a8c18af695",
   "metadata": {},
   "source": [
    "## 3.3 The GPT Architecture I: A High Level View"
   ]
  },
  {
   "cell_type": "markdown",
   "id": "05f9bc1c-850a-4f77-9f98-8735c94aee94",
   "metadata": {},
   "source": [
    "<div class=\"alert alert-block alert-success\">\n",
    "<div class=\"alert alert-block alert-info\">\n",
    "    \n",
    "  <b>A \"Top-Down\" Approach</b><br>\n",
    "    \n",
    "Before we assemble the final, complex components of our GPT model, it's helpful to first understand the big picture. In this section, we'll adopt a **\"top-down\"** design approach by building a high-level **\"skeleton\"** of the entire model.\n",
    "</div>\n",
    "    \n",
    "\n",
    "We will use simple dummy classes as placeholders for the internal machinery, like the `TransformerBlock` and `LayerNorm`. This strategy allows us to focus on the overall architecture and trace the journey of a tensor as it flows from the input embedding layer to the final output logits, ensuring our high-level structure is correct before we dive into implementing the details.\n",
    "</div>"
   ]
  },
  {
   "cell_type": "markdown",
   "id": "d4586306-0900-41dd-a94d-6ac298267a67",
   "metadata": {},
   "source": [
    "### 3.3.1 Defining the Model Skeleton"
   ]
  },
  {
   "cell_type": "markdown",
   "id": "1068def8-f249-4442-9fb2-d7a1df1467c3",
   "metadata": {},
   "source": [
    "<div class=\"alert alert-block alert-success\">\n",
    "\n",
    "The code below defines our `DummyGPTModel`. It includes the complete end-to-end structure of the network. Notice the placeholder classes, `DummyTransformerBlock` and `DummyLayerNorm`, which are designed to simply pass the input through without any changes for now.\n",
    "</div>"
   ]
  },
  {
   "cell_type": "code",
   "execution_count": 3,
   "id": "d298d3ff-9d67-4151-be12-d9b07e97dbab",
   "metadata": {},
   "outputs": [],
   "source": [
    "class DummyGPTModel(nn.Module):\n",
    "    def __init__(self, cfg):\n",
    "        super().__init__()\n",
    "        self.tok_emb = nn.Embedding(cfg[\"vocab_size\"], cfg[\"emb_dim\"])\n",
    "        self.pos_emb = nn.Embedding(cfg[\"context_length\"], cfg[\"emb_dim\"])\n",
    "        self.drop_emb = nn.Dropout(cfg[\"dropout_rate\"])\n",
    "\n",
    "        # Use a placeholder for the stack of Transformer Blocks\n",
    "        self.trf_blocks = nn.Sequential(\n",
    "            *[DummyTransformerBlock(cfg) for _ in range(cfg[\"n_layers\"])]\n",
    "        )\n",
    "\n",
    "        # Use a placeholder for the final LayerNorm\n",
    "        self.final_norm = DummyLayerNorm(cfg[\"emb_dim\"])\n",
    "        self.out_head = nn.Linear(\n",
    "            cfg[\"emb_dim\"], cfg[\"vocab_size\"], bias=False\n",
    "        )\n",
    "    def forward(self, in_idx):\n",
    "        batch_size, seq_len = in_idx.shape\n",
    "        tok_embeds = self.tok_emb(in_idx)\n",
    "        pos_embeds = self.pos_emb(torch.arange(seq_len, device=in_idx.device))\n",
    "        x = tok_embeds + pos_embeds\n",
    "        x = self.drop_emb(x)\n",
    "        x = self.trf_blocks(x)\n",
    "        x = self.final_norm(x)\n",
    "        logits = self.out_head(x)\n",
    "        return logits        \n",
    "\n",
    "\n",
    "# --- Placeholder Classes ---\n",
    "\n",
    "class DummyTransformerBlock(nn.Module):\n",
    "    def __init__(self, cfg):\n",
    "        super().__init__()\n",
    "    def forward(self, x):\n",
    "        # This block does nothing and just returns its input\n",
    "        return x\n",
    "\n",
    "class DummyLayerNorm(nn.Module):\n",
    "    def __init__(self, normalized_shape, eps=1e-5):\n",
    "        super().__init__()\n",
    "    def forward(self, x):\n",
    "        # This layer also does nothing and just returns its input\n",
    "        return x\n",
    "    "
   ]
  },
  {
   "cell_type": "markdown",
   "id": "cf106db4-4660-44f5-a13a-75018d5f78b5",
   "metadata": {},
   "source": [
    "<div class=\"alert alert-block alert-warning\">\n",
    "\n",
    "The `DummyGPTModel` defines the complete, high-level architecture. Let's analyze the `forward` method to understand the data flow:\n",
    "\n",
    "1. **Embedding:** The input token IDs are converted into token embeddings. Simultaneously, positional embeddings are created for each token based on its position in the sequence. These two embeddings are added together to give each token semantic meaning and positional context.\n",
    "   \n",
    "2. **Transformer Blocks:** The resulting embeddings are processed through a stack of `n_layers` Transformer blocks. In this dummy version, these blocks don't do anything yet, but this is where the self-attention and feed-forward logic will go.\n",
    "\n",
    "3. **Final Normalization:** A final `LayerNorm` is applied after the Transformer Blocks.\n",
    "\n",
    "4. **Output Head:** A final linear layer projects the output of the transformers back into vocabulary space, producing raw, unnormalized scores (logits) for every possible token in the vocabulary.\n",
    "\n",
    "Now that we have this high-level skeleton, the next sections will focus on building the real, functional version of `LayerNorm` and `TransformerBlock` to replace these placeholders.\n",
    "\n",
    "</div>"
   ]
  },
  {
   "cell_type": "markdown",
   "id": "eaec3482-a5a7-44f7-9a16-701c1cae823b",
   "metadata": {},
   "source": [
    "### 3.3.2 Testing the GPT Model Skeleton"
   ]
  },
  {
   "cell_type": "markdown",
   "id": "fb405314-fcd0-4093-8da8-90fad432e564",
   "metadata": {},
   "source": [
    "<div class=\"alert alert-block alert-success\">\n",
    "    \n",
    "Now that we have the high-level skeleton of our model, let's run a quick test to ensure the data flows through it correctly. We will perform two steps:\n",
    "    \n",
    "* 1.  First, we'll tokenize two sample sentences and create an input batch.\n",
    "* 2.  Second, we'll pass this batch through our `DummyGPTModel` and verify that the output tensor has the shape we expect.\n",
    "</div>"
   ]
  },
  {
   "cell_type": "code",
   "execution_count": 9,
   "id": "af4dea40-854f-4a8f-8fbe-0053fc33d35f",
   "metadata": {},
   "outputs": [
    {
     "name": "stdout",
     "output_type": "stream",
     "text": [
      "Input shape: torch.Size([2, 4])\n",
      "tensor([[6109, 3626, 6100,  345],\n",
      "        [6109, 1110, 6622,  257]])\n"
     ]
    }
   ],
   "source": [
    "tokenizer = tiktoken.get_encoding(\"gpt2\")\n",
    "batch = []\n",
    "txt1 = \"Every effort moves you\"\n",
    "txt2 = \"Every day holds a\"\n",
    "batch.append(torch.tensor(tokenizer.encode(txt1)))\n",
    "batch.append(torch.tensor(tokenizer.encode(txt2)))\n",
    "batch = torch.stack(batch, dim=0)\n",
    "print(\"Input shape:\", batch.shape)\n",
    "print(batch)"
   ]
  },
  {
   "cell_type": "code",
   "execution_count": 5,
   "id": "0f563706-c7fa-4e92-a3cb-411f3c99a8b5",
   "metadata": {},
   "outputs": [
    {
     "name": "stdout",
     "output_type": "stream",
     "text": [
      "Output shape: torch.Size([2, 4, 50257])\n",
      "tensor([[[-1.1073, -0.3112,  0.4756,  ..., -0.0372,  1.4159,  0.0902],\n",
      "         [-0.8873,  0.4433,  0.1565,  ..., -0.2307,  0.2448, -0.8779],\n",
      "         [-2.3526, -0.9504, -0.7646,  ...,  0.7654,  0.2491,  0.3775],\n",
      "         [ 0.5979,  1.0420, -1.5600,  ...,  0.4073, -0.0435, -0.3111]],\n",
      "\n",
      "        [[-0.7754, -0.3975,  0.8207,  ..., -0.4550,  1.2873, -0.1645],\n",
      "         [-1.2486, -0.1166,  0.6246,  ...,  0.5602,  0.8671, -0.6983],\n",
      "         [-0.0773, -0.1393, -0.3316,  ..., -0.0703,  1.7652, -0.1684],\n",
      "         [-0.1209,  0.4775,  0.3865,  ...,  0.4667, -1.6924, -0.4930]]],\n",
      "       grad_fn=<UnsafeViewBackward0>)\n"
     ]
    }
   ],
   "source": [
    "# Create an instance of the DummyGPTModel\n",
    "torch.manual_seed(100)\n",
    "model = DummyGPTModel(GPT_CONFIG_124M)\n",
    "\n",
    "# Pass the batch through the model\n",
    "logits = model(batch)\n",
    "\n",
    "# Print the shape of the output\n",
    "print(\"Output shape:\", logits.shape)\n",
    "print(logits)"
   ]
  },
  {
   "cell_type": "markdown",
   "id": "e7becf95-d378-457b-8c81-6a0dba0a4e1a",
   "metadata": {},
   "source": [
    "### 3.3.3 Analyzing the Model's Output"
   ]
  },
  {
   "cell_type": "markdown",
   "id": "c1c00391-e7f9-47f9-902e-4f65802fd0e8",
   "metadata": {},
   "source": [
    "<div class=\"alert alert-block alert-success\">\n",
    "\n",
    "The output of our model is a tensor of **logits** with the shape `[2, 4, 50257]`. Let's breakdown what each dimension represents:\n",
    "\n",
    "* **`2` (Batch Size):** This corresponds to the two input sentences we provided (\"Every effort moves you\" and \"Every day holds a\").\n",
    "* **`4` (Sequence Length):** This corresponds to the four tokens in each input sentence.\n",
    "* **`50257` (Vocabulary Size):** For each of the 4 tokens in each sentence, the model has produced a vector of 50,257 raw, unnormalized scores. Each score corresponds to a unique token in the vocabulary.\n",
    "\n",
    "These logits represent the model's raw \"prediction\" for the **next** token in the sequence at each position. Later, we will pass these logits through a softmax function to turn them into probabilities and generate text.\n",
    "\n",
    "<div class=\"alert alert-block alert-info\">\n",
    "    \n",
    "Now that we have successfully taken a top-down look at the GPT architecture and verified its data flow, we will begin coding the real components, starting with the `LayerNorm` class to replace `DummyLayerNorm`.\n",
    "</div>    \n",
    "\n",
    "</div>"
   ]
  },
  {
   "cell_type": "markdown",
   "id": "012fe547-7f80-4b4d-9bf8-1f846b617277",
   "metadata": {
    "jp-MarkdownHeadingCollapsed": true
   },
   "source": [
    "## 3.4 The GPT Architecture II: Layer Normalization"
   ]
  },
  {
   "cell_type": "markdown",
   "id": "eb0eeeb9-4e1c-41e9-90d5-ed8310dfb781",
   "metadata": {},
   "source": [
    "<div class=\"alert alert-block alert-success\">\n",
    "\n",
    "Layer Normalization is a critical technique used in transformers to stabilize the training process. Deep neural networks can suffer from a problem where the distribution of activations changes between layers, making training difficult. Layer Normalization helps by re-centering and re-scaling the activations at each layer to a standard distribution (with a mean of 0 and a variance of 1).\n",
    "\n",
    "</div>"
   ]
  },
  {
   "cell_type": "markdown",
   "id": "311946ab-3555-43c9-86cb-61c703e32387",
   "metadata": {},
   "source": [
    "### 3.4.1 Building LayerNorm from First Principles"
   ]
  },
  {
   "cell_type": "markdown",
   "id": "e90cd570-16c1-4706-9822-e1c89e0bc87f",
   "metadata": {},
   "source": [
    "<div class=\"alert alert-block alert-success\">\n",
    "To understand what Layer Normalization does, let's start with a simple example. We'll create a mini-batch of random data.\n",
    "</div>"
   ]
  },
  {
   "cell_type": "code",
   "execution_count": 6,
   "id": "c6a79882-4f6e-495e-bf2e-6da65f470e60",
   "metadata": {},
   "outputs": [
    {
     "name": "stdout",
     "output_type": "stream",
     "text": [
      "tensor([[ 0.3607, -0.2859, -0.3938,  0.2429, -1.3833],\n",
      "        [-2.3134, -0.3172, -0.8660,  1.7482, -0.2759]])\n"
     ]
    }
   ],
   "source": [
    "torch.manual_seed(100)\n",
    "\n",
    "# Create a batch of 2 examples with 5 features each\n",
    "batch_example = torch.randn(2, 5)\n",
    "\n",
    "print(batch_example)"
   ]
  },
  {
   "cell_type": "markdown",
   "id": "7bf0c449-c84e-466a-9e8e-fa40b5a151aa",
   "metadata": {},
   "source": [
    "<div class=\"alert alert-block alert-success\">\n",
    "<div class=\"alert alert-block alert-info\">\n",
    "    \n",
    "As you can see, the output values are arbitrary. The purpose of LayerNorm is to rescale these activations.\n",
    "\n",
    "</div>\n",
    "\n",
    "Before we normalize, let's first calculate their current mean and variance for each example in the batch.\n",
    "\n",
    "</div>"
   ]
  },
  {
   "cell_type": "code",
   "execution_count": 7,
   "id": "05d61eaa-812a-41b8-ab74-5b166d990736",
   "metadata": {},
   "outputs": [
    {
     "name": "stdout",
     "output_type": "stream",
     "text": [
      "Mean:\n",
      " tensor([[-0.2919],\n",
      "        [-0.4049]])\n",
      "Var:\n",
      " tensor([[0.4784],\n",
      "        [2.1288]])\n"
     ]
    }
   ],
   "source": [
    "mean = batch_example.mean(dim=-1, keepdim=True)\n",
    "var = batch_example.var(dim=-1, keepdim=True)\n",
    "\n",
    "print(\"Mean:\\n\", mean)\n",
    "print(\"Var:\\n\", var)"
   ]
  },
  {
   "cell_type": "markdown",
   "id": "40e8cab2-1db1-4d76-9b0b-111bb553b3de",
   "metadata": {},
   "source": [
    "<div class=\"alert alert-block alert-success\">\n",
    "Now for the core operation, Layer Normalization standardizes the activations by subtracting the mean and dividing by the standard deviation (the square root of the variance).\n",
    "</div>"
   ]
  },
  {
   "cell_type": "code",
   "execution_count": 8,
   "id": "2eac87a9-431a-4696-b481-80d0e811bc90",
   "metadata": {},
   "outputs": [
    {
     "name": "stdout",
     "output_type": "stream",
     "text": [
      "Normalized batch:\n",
      " tensor([[ 0.9435,  0.0086, -0.1474,  0.7733, -1.5780],\n",
      "        [-1.3081,  0.0601, -0.3161,  1.4757,  0.0884]])\n"
     ]
    }
   ],
   "source": [
    "# Manually apply normalization\n",
    "batch_norm = (batch_example - mean) / torch.sqrt(var)\n",
    "\n",
    "print(\"Normalized batch:\\n\", batch_norm)"
   ]
  },
  {
   "cell_type": "markdown",
   "id": "16be5aea-529d-447c-9fde-5995da8850fa",
   "metadata": {},
   "source": [
    "<div class=\"alert alert-block alert-success\">\n",
    "Let's verify the result. If the normalization worked, then the mean should be approximately 0 and the new variance should be 1. Note that the mean may not be exactly zero due to tiny floating-point inaccuracies.\n",
    "</div>"
   ]
  },
  {
   "cell_type": "code",
   "execution_count": 9,
   "id": "93e98ccf-4fdb-4d83-9f5e-b8d542e42e46",
   "metadata": {},
   "outputs": [
    {
     "name": "stdout",
     "output_type": "stream",
     "text": [
      "Mean of normalized batch:\n",
      " tensor([[     0.0000],\n",
      "        [    -0.0000]])\n",
      "Var of normalized batch:\n",
      " tensor([[1.0000],\n",
      "        [1.0000]])\n"
     ]
    }
   ],
   "source": [
    "# Verify the mean and variance of the normalized inputs\n",
    "mean_norm = batch_norm.mean(dim=-1, keepdim=True)\n",
    "var_norm = batch_norm.var(dim=-1, keepdim=True)\n",
    "\n",
    "torch.set_printoptions(sci_mode=False)\n",
    "print(\"Mean of normalized batch:\\n\", mean_norm)\n",
    "print(\"Var of normalized batch:\\n\", var_norm)"
   ]
  },
  {
   "cell_type": "code",
   "execution_count": null,
   "id": "e8b4bf92-a85e-4c1f-bb1e-55bb7db78005",
   "metadata": {},
   "outputs": [],
   "source": []
  },
  {
   "cell_type": "markdown",
   "id": "ba996ac8-a08e-4f1c-9b39-e79feb927d20",
   "metadata": {},
   "source": [
    "### 3.4.2 Encapsulating the Logic in a `LayerNorm` Class"
   ]
  },
  {
   "cell_type": "markdown",
   "id": "01dc1faf-de71-4737-8eb7-8c17027e3a0b",
   "metadata": {},
   "source": [
    "<div class=\"alert alert-block alert-success\">\n",
    "    \n",
    "Now that we understood the step-by-step math, we can encapsulate this logic into a reusable PyTorch module. A production-ready `LayerNorm` class also includes two extra trainable parameters (`scale` and `shift`) and a small `epsilon` term for numerical stability.\n",
    "</div>"
   ]
  },
  {
   "cell_type": "code",
   "execution_count": 19,
   "id": "c9bd19df-5560-49a6-8bd9-c4be6d89c3c1",
   "metadata": {},
   "outputs": [],
   "source": [
    "class LayerNorm(nn.Module):\n",
    "    def __init__(self, emb_dim):\n",
    "        super().__init__()\n",
    "        self.eps = 1e-5\n",
    "        self.scale = nn.Parameter(torch.ones(emb_dim))\n",
    "        self.shift = nn.Parameter(torch.zeros(emb_dim))\n",
    "\n",
    "    def forward(self, x):\n",
    "        mean = x.mean(dim=-1, keepdim=True)\n",
    "        var = x.var(dim=-1, keepdim=True, unbiased=False)\n",
    "        norm_x = (x - mean) / torch.sqrt(var + self.eps)\n",
    "        return self.scale * norm_x + self.shift\n",
    "        "
   ]
  },
  {
   "cell_type": "markdown",
   "id": "49786f08-5f31-46cb-9ab8-3fe3c2f96b4e",
   "metadata": {},
   "source": [
    "<div class=\"alert alert-block alert-info\">\n",
    "    \n",
    "<b>What do  `scale` and `shift` do?</b>\n",
    "\n",
    "While forcing the activation to have a mean of 0 and variance of 1 is great for stability, it can sometimes limit the expressive power of the network. `scale` (gamma) and `shift` (beta) are trainable parameters that allow the model to learn the optimal scale and shift for the normalized activations. In essence , it gives the network the ability to \"undo\" the normalization if it finds that a different distribution works better for that specific layer.\n",
    "\n",
    "<b>Note on `unbiased=False`</b>\n",
    "\n",
    "In statistics, the variance of a sample is often calculated by dividing by `n-1` (unbiased) instead of `n` (biased). We explicitly set `unbiased=False`to divide by `n`. For the large embedding dimensions used in LLMs, the difference is negligible. This choice ensures  our implementation is compatible with the original GPT-2 model.\n",
    "\n",
    "</div>"
   ]
  },
  {
   "cell_type": "markdown",
   "id": "79509d96-fa92-4576-b898-74bf08d87220",
   "metadata": {},
   "source": [
    "### 3.4.3 Testing the `LayerNorm` Class"
   ]
  },
  {
   "cell_type": "markdown",
   "id": "6d50b5e4-5837-42ba-98b3-c8578647b9cf",
   "metadata": {},
   "source": [
    "<div class=\"alert alert-block alert-success\">\n",
    "\n",
    "Finally, let's instantiate our new `LayerNorm` class and test it on our original example data to confirm it works as expected.\n",
    "\n",
    "</div>"
   ]
  },
  {
   "cell_type": "code",
   "execution_count": 11,
   "id": "fa27bb4c-3ffc-4b77-aa18-231de9e72be0",
   "metadata": {},
   "outputs": [
    {
     "name": "stdout",
     "output_type": "stream",
     "text": [
      "Mean:\n",
      " tensor([[    -0.0000],\n",
      "        [    -0.0000]], grad_fn=<MeanBackward1>)\n",
      "Variance:\n",
      " tensor([[1.0000],\n",
      "        [1.0000]], grad_fn=<VarBackward0>)\n"
     ]
    }
   ],
   "source": [
    "ln = LayerNorm(emb_dim=5)\n",
    "out_ln = ln(batch_example)\n",
    "mean = out_ln.mean(dim=-1, keepdim=True)\n",
    "var = out_ln.var(dim=-1, keepdim=True, unbiased=False)\n",
    "print(\"Mean:\\n\", mean)\n",
    "print(\"Variance:\\n\", var)"
   ]
  },
  {
   "cell_type": "markdown",
   "id": "a05a3242-2d5b-4279-8d10-6ecdb408c507",
   "metadata": {
    "jp-MarkdownHeadingCollapsed": true
   },
   "source": [
    "## 3.5 The GPT Architecture III: The FeedForward Neural Network with GELU Activation"
   ]
  },
  {
   "cell_type": "markdown",
   "id": "0531e31d-7154-4613-81c1-df41f307db19",
   "metadata": {},
   "source": [
    "<div class=\"alert alert-block alert-success\">\n",
    "    \n",
    "Every transformer block contains two main sub-layers. The first is the multi-head attention mechanism we've already built. The second is a simple, position-wise **feed-forward neural network.**\n",
    "\n",
    "This network's job is to process each token's information independently after it has already gathered context from the attention layer. It adds computational depth and allows the model to learn more complex representations for each token.\n",
    "\n",
    "A key component of this network in GPT models is the **GELU activation function**.\n",
    "</div>"
   ]
  },
  {
   "cell_type": "markdown",
   "id": "2d3d2628-fc14-4827-a9a3-01d57cd0fd43",
   "metadata": {},
   "source": [
    "### 3.5.1 The GELU Activation Function"
   ]
  },
  {
   "cell_type": "markdown",
   "id": "adb96506-da5a-4514-a3bd-e27e85f3af4a",
   "metadata": {},
   "source": [
    "<div class=\"alert alert-block alert-success\">\n",
    "    \n",
    "While `ReLU` is a common activation function, GPT models use a smoother alternative called **GELU (Gaussian Error Linear Unit)**. Let's implement the specific approximation of GELU used by GPT-2 and then visualize it to see how it compares to ReLU.\n",
    "\n",
    "$$\n",
    "\\text{GELU}(x) = 0.5x \\left(1 + \\tanh\\left[\\sqrt{\\frac{2}{\\pi}} \\left(x + 0.044715x^3\\right)\\right]\\right)\n",
    "$$\n",
    "\n",
    "Where:\n",
    "* $x$ is the input to the function.\n",
    "* $\\tanh$ is the hyperbolic tangent function.\n",
    "* $\\pi$ is the mathematical constant Pi.\n",
    "\n",
    "</div>"
   ]
  },
  {
   "cell_type": "code",
   "execution_count": 17,
   "id": "6b33aca8-3bb2-4740-a0dc-590befc9deb0",
   "metadata": {},
   "outputs": [],
   "source": [
    "class GELU(nn.Module):\n",
    "    def __init__(self):\n",
    "        super().__init__()\n",
    "        \n",
    "    def forward(self, x):\n",
    "        return 0.5 * x * (1 + torch.tanh(\n",
    "            torch.sqrt(torch.tensor(2.0 / torch.pi)) * (x + 0.044715 * torch.pow(x, 3))\n",
    "        ))"
   ]
  },
  {
   "cell_type": "code",
   "execution_count": 13,
   "id": "308cd3d1-1c31-4773-b1c0-7f5e1a1c84f6",
   "metadata": {},
   "outputs": [
    {
     "data": {
      "image/png": "[encoded data removed]",
      "text/plain": [
       "<Figure size 1000x400 with 2 Axes>"
      ]
     },
     "metadata": {},
     "output_type": "display_data"
    }
   ],
   "source": [
    "gelu, relu = GELU(), nn.ReLU()\n",
    "\n",
    "# Some sample data\n",
    "x = torch.linspace(-3, 3, 100)\n",
    "y_gelu, y_relu = gelu(x), relu(x)\n",
    "\n",
    "plt.figure(figsize=(10, 4))\n",
    "for i, (y, label) in enumerate(zip([y_gelu, y_relu], [\"GELU\", \"ReLU\"]), 1):\n",
    "    plt.subplot(1, 2, i)\n",
    "    plt.plot(x, y)\n",
    "    plt.title(f\"{label} activation function\")\n",
    "    plt.xlabel(\"x\")\n",
    "    plt.ylabel(f\"{label}(x)\")\n",
    "    plt.grid(True)\n",
    "\n",
    "plt.tight_layout()\n",
    "plt.show()"
   ]
  },
  {
   "cell_type": "markdown",
   "id": "43fb8b95-50fb-461e-a856-a9312f013505",
   "metadata": {},
   "source": [
    "<div class=\"alert alert-block alert-warning\">\n",
    "\n",
    "As we can see in the plot, GELU has several advantages over the standard ReLU function:\n",
    "\n",
    "* **It's smooth:** Unlike ReLU, which has a sharp corner at zero, GELU is a smooth function.This can lead to better, more stable optimization properties during model training.\n",
    "* **It's non-zero for negative values:** ReLU completely blocks any negative input by turning it to zero. GELU allows a small amount of negative information to pass through, which means neurons that receive negative input can still contribute to the learning process.\n",
    "</div>"
   ]
  },
  {
   "cell_type": "markdown",
   "id": "623d075d-312a-40c2-8750-c91c5c7762a8",
   "metadata": {},
   "source": [
    "### 3.5.2 Building the `FeedForward` Module"
   ]
  },
  {
   "cell_type": "markdown",
   "id": "8b133ae2-35aa-42fb-a21c-5bbacb95e844",
   "metadata": {},
   "source": [
    "<div class=\"alert alert-block alert-success\">\n",
    "    \n",
    "Now, let's use our `GELU ` activation to build the `FeedForward` module. A key feature of the transformer's feed-forward layer is that  it first **expands** the input embedding dimension (typically by a factor of 4) and then **contracts** it back down. This expand-and-contract design allows the model to learn richer, more complex representations for each token in a higher-dimensional space.\n",
    "</div>"
   ]
  },
  {
   "cell_type": "code",
   "execution_count": 13,
   "id": "0e9c34f3-a7cf-48f0-99dc-cf8f5a3707e5",
   "metadata": {},
   "outputs": [],
   "source": [
    "class FeedForward(nn.Module):\n",
    "    def __init__(self, cfg):\n",
    "        super().__init__()\n",
    "        self.layers = nn.Sequential(\n",
    "            nn.Linear(cfg[\"emb_dim\"], 4 * cfg[\"emb_dim\"]), #Expansion layer\n",
    "            GELU(), # Activation\n",
    "            nn.Linear(4 * cfg[\"emb_dim\"], cfg[\"emb_dim\"]), # Contraction layer\n",
    "        )\n",
    "\n",
    "    def forward(self, x):\n",
    "        return self.layers(x)"
   ]
  },
  {
   "cell_type": "markdown",
   "id": "354b6241-62c3-48c3-a1ed-7685416e4630",
   "metadata": {},
   "source": [
    "### 3.5.3 Testing the `FeedForward` Module"
   ]
  },
  {
   "cell_type": "markdown",
   "id": "0c2b6d1d-37a1-4c82-b074-ba75be70a637",
   "metadata": {},
   "source": [
    "<div class=\"alert alert-block alert-success\">\n",
    "    \n",
    "Let's test out `FeedForward` module by passing a sample batch of data through it and verifying that the output shape is the same, as expected.\n",
    "\n",
    "</div>"
   ]
  },
  {
   "cell_type": "code",
   "execution_count": 15,
   "id": "23d36138-10fb-4700-887f-b12271825a0c",
   "metadata": {},
   "outputs": [
    {
     "name": "stdout",
     "output_type": "stream",
     "text": [
      "Input shape: torch.Size([2, 4, 768])\n",
      "Output shape: torch.Size([2, 4, 768])\n"
     ]
    }
   ],
   "source": [
    "# Note: We can use the GPT_CONFIG_124M dictionary we defined earlier in the notebook\n",
    "\n",
    "ffn = FeedForward(GPT_CONFIG_124M)\n",
    "x = torch.rand(2, 4, 768)  # A sample batch: (batch_size, num_tokens, emb_dim)\n",
    "out = ffn(x)\n",
    "\n",
    "print(\"Input shape:\", x.shape)\n",
    "print(\"Output shape:\", out.shape)"
   ]
  },
  {
   "cell_type": "markdown",
   "id": "e3dd82d4-e936-4764-9ab8-092f0836164a",
   "metadata": {},
   "source": [
    "<div class=\"alert alert-block alert-info\">\n",
    "    \n",
    "The uniformity in input and output dimensions (`[2, 4, 768]`) is a crucial design choice. It simplifies the overall GPT architecture by enabling multiple `TransformerBlock` layers to be stacked on top of each other seamlessly, without the need to adjust tensor dimensions between them.\n",
    "</div>"
   ]
  },
  {
   "cell_type": "markdown",
   "id": "dca540de-9ca6-4a33-93c0-f112316508ca",
   "metadata": {
    "jp-MarkdownHeadingCollapsed": true
   },
   "source": [
    "## 3.6 The GPT Architecture IV: Shortcut Connections"
   ]
  },
  {
   "cell_type": "markdown",
   "id": "7e84f0ca-16ef-4cf2-9366-b15f54e68258",
   "metadata": {},
   "source": [
    "<div class=\"alert alert-block alert-success\">\n",
    "    \n",
    "A critical innovation that enabled the training of very deep neural networks is the **shortcut** or **residual connection**. This technique helps to mitigate the \"vanishing gradient problem\", a common issue where the signal from the loss function becomes too weak to update the weights in the early layers of a deep network.\n",
    "\n",
    "In a transformer block, shortcut connections are used around both the self-attention and the feed-forward layers. Let's see why they are so important with a hands-on example.\n",
    "</div>"
   ]
  },
  {
   "cell_type": "markdown",
   "id": "31defa4f-0ce6-42ac-a52d-3a26c8b1d8ee",
   "metadata": {},
   "source": [
    "### 3.6.1 The Vanishing Gradient Problem"
   ]
  },
  {
   "cell_type": "markdown",
   "id": "ad0a3459-a120-434d-9a11-dffb6cc1faeb",
   "metadata": {},
   "source": [
    "<div class=\"alert alert-block alert-success\">\n",
    "    \n",
    "To understand the problem, we'll first build a simple, deep neural network **without** shortcut connections. We will then perform a backward pass and observe the gradients diminish as they flow from the final layer back to the first.\n",
    "</div>"
   ]
  },
  {
   "cell_type": "code",
   "execution_count": 16,
   "id": "977cae6a-a60d-4e41-9e73-e1a2b154ea7d",
   "metadata": {},
   "outputs": [],
   "source": [
    "# A simple deep network and a helper function to inspect gradients\n",
    "class ExampleDeepNeuralNetwork(nn.Module):\n",
    "    def __init__(self, layer_sizes, use_shortcut):\n",
    "        super().__init__()\n",
    "        self.use_shortcut = use_shortcut\n",
    "        self.layers = nn.ModuleList([\n",
    "            nn.Sequential(nn.Linear(layer_sizes[i], layer_sizes[i+1]), GELU())\n",
    "            for i in range(len(layer_sizes) - 1)\n",
    "        ])\n",
    "    \n",
    "    def forward(self, x):\n",
    "        for layer in self.layers:\n",
    "            layer_output = layer(x)\n",
    "            # Add shortcut connection if enable and shapes match\n",
    "            if self.use_shortcut and x.shape == layer_output.shape:\n",
    "                x = x + layer_output\n",
    "            else:\n",
    "                x = layer_output\n",
    "        return x\n",
    "\n",
    "def print_gradients(model, x):\n",
    "    \"\"\"A helper function to compute and print the mean absolute gradient for each layer's weights.\"\"\"\n",
    "    output = model(x)\n",
    "    target = torch.tensor([[0.]])\n",
    "\n",
    "    # Calculate loss (how far the output is from the target)\n",
    "    loss = nn.MSELoss()\n",
    "    loss = loss(output, target)\n",
    "\n",
    "    # Backward pass to compute gradients\n",
    "    loss.backward()\n",
    "\n",
    "    for name, param in model.named_parameters():\n",
    "        if 'weight' in name:\n",
    "            print(f\"{name} has gradient mean of {param.grad.abs().mean().item()}\")\n",
    "    "
   ]
  },
  {
   "cell_type": "markdown",
   "id": "59c359f6-e70c-488f-a0d8-3df09ac1192e",
   "metadata": {},
   "source": [
    "<div class=\"alert alert-block alert-success\">\n",
    "Now, let's create an instance of this network with shortcuts disabled and calculate the gradients for each layer.\n",
    "</div>"
   ]
  },
  {
   "cell_type": "code",
   "execution_count": 17,
   "id": "0b4f1705-d6e1-4804-b413-7f63ec49c69d",
   "metadata": {},
   "outputs": [
    {
     "name": "stdout",
     "output_type": "stream",
     "text": [
      "layers.0.0.weight has gradient mean of 0.00011775017628679052\n",
      "layers.1.0.weight has gradient mean of 0.0003875654365401715\n",
      "layers.2.0.weight has gradient mean of 0.0014669443480670452\n",
      "layers.3.0.weight has gradient mean of 0.001532275229692459\n",
      "layers.4.0.weight has gradient mean of 0.013530432246625423\n"
     ]
    }
   ],
   "source": [
    "torch.manual_seed(100)\n",
    "\n",
    "layer_sizes = [3, 3, 3, 3, 3, 1]\n",
    "sample_input = torch.tensor([[1., 0., -1.]])\n",
    "\n",
    "model_without_shortcut = ExampleDeepNeuralNetwork(\n",
    "    layer_sizes, use_shortcut=False\n",
    ")\n",
    "\n",
    "print_gradients(model_without_shortcut, sample_input)\n"
   ]
  },
  {
   "cell_type": "markdown",
   "id": "a0732436-c8c9-4960-875d-d4626b6fc82b",
   "metadata": {},
   "source": [
    "<div class=\"alert alert-block alert-info\">\n",
    "    \n",
    "<b>Analysis: Vanishing Gradients</b><br>\n",
    "\n",
    "As we can see in the output above, the mean gradient value is much larger for the last layer (`layers.4.0.weight`) than it is for the first layer (`layers.1.0.weight`). The gradient signal shrinks or \"vanishes\" as it is propagated backward through the network. In a much deeper network, the gradients for the initial layers would become so close to zero that those layers would effectively stop learning.\n",
    "</div>"
   ]
  },
  {
   "cell_type": "markdown",
   "id": "9c7e8c5f-dd32-4f3d-bd03-b44e487dad23",
   "metadata": {},
   "source": [
    "### 3.6.2 The Solution: Adding Shortcut Connections"
   ]
  },
  {
   "cell_type": "markdown",
   "id": "945aa466-9ef7-4e20-9a54-f06efe9d6729",
   "metadata": {},
   "source": [
    "<div class=\"alert alert-block alert-success\">\n",
    "    \n",
    "Now, let's enable the shortcut connections. By simply setting `use_shortcut=True`, our `forward` method will add the input of each layer (`x`)  back to its output (`layer_output`). This creates a direct path for the gradient to flow backward through the network, bypassing the layers that can diminish it.\n",
    "\n",
    "</div>"
   ]
  },
  {
   "cell_type": "code",
   "execution_count": 18,
   "id": "1a67c415-cee9-4c33-92bc-5d0dc9f178b4",
   "metadata": {},
   "outputs": [
    {
     "name": "stdout",
     "output_type": "stream",
     "text": [
      "layers.0.0.weight has gradient mean of 0.08600781857967377\n",
      "layers.1.0.weight has gradient mean of 0.44186362624168396\n",
      "layers.2.0.weight has gradient mean of 0.10087182372808456\n",
      "layers.3.0.weight has gradient mean of 0.250803679227829\n",
      "layers.4.0.weight has gradient mean of 1.407089114189148\n"
     ]
    }
   ],
   "source": [
    "torch.manual_seed(100)\n",
    "model_with_shortcut = ExampleDeepNeuralNetwork(\n",
    "    layer_sizes, use_shortcut=True\n",
    ")\n",
    "\n",
    "print_gradients(model_with_shortcut, sample_input)"
   ]
  },
  {
   "cell_type": "markdown",
   "id": "c59aeb3d-e6ec-4dea-85be-d3526e3e7e7f",
   "metadata": {},
   "source": [
    "<div class=\"alert alert-block alert-info\">\n",
    "    \n",
    "<b>Conclusion: Stable Gradients</b><br>\n",
    "\n",
    "Success! With the shortcut connection enabled, the gradient values in the early layers are much stronger and on the same order of magnitude as the later layers. The gradient is able to flow effectively through the entire network.\n",
    "\n",
    "This technique is a core building block of very large models like LLMs, as it facilitates more effective and stable training.\n",
    "</div>"
   ]
  },
  {
   "cell_type": "markdown",
   "id": "46ae3d55-060c-4dfd-a294-abc9f0312d94",
   "metadata": {},
   "source": [
    "## 3.7 The GPT Architecture V: Assembling the Transformer Block"
   ]
  },
  {
   "cell_type": "markdown",
   "id": "be903084-ec46-4231-b939-5082f7557188",
   "metadata": {},
   "source": [
    "<div class=\"alert alert-block alert-success\">\n",
    "\n",
    "We have now built all the necessary components: `MultiHeadAttention`, `LayerNorm`, `FeedForward`, and we understand the importance of `Shortcut Connections`. It is finally time to assemble them into a complete `TransformerBlock`.\n",
    "\n",
    "This block is the fundamental, repeating unit of the GPT model. The model's power comes from stacking many of these blocks on top of each other.\n",
    "\n",
    "</div>"
   ]
  },
  {
   "cell_type": "markdown",
   "id": "4aa9cdea-9c86-4e2b-b87c-a10f00956579",
   "metadata": {},
   "source": [
    "### 3.7.1 Defining the `TransformerBlock` Class"
   ]
  },
  {
   "cell_type": "markdown",
   "id": "bc960257-7b9c-4531-9edc-61598d5a3b62",
   "metadata": {},
   "source": [
    "<div class=\"alert alert-block alert-success\">\n",
    "    \n",
    "The `TransformerBlock` class combines the two main sub-layers (*multi-head attention* and the *feed-forward network*). Crucially, it applies `LayerNorm` **before** each sub-layer and uses shortcut connections **after** each one. This \"pre-layer norm\" architecture is a modern design that leads to more stable training than the original transformer paper's \"post-layer norm\" approach.\n",
    "</div>"
   ]
  },
  {
   "cell_type": "code",
   "execution_count": 15,
   "id": "b9c2d774-4f74-4c5f-a7e2-c22d33603696",
   "metadata": {},
   "outputs": [],
   "source": [
    "class TransformerBlock(nn.Module):\n",
    "    def __init__(self, cfg):\n",
    "        super().__init__()\n",
    "        \n",
    "        # First sub-layer: Multi-Head Attention\n",
    "        self.attn = MultiHeadAttention(\n",
    "        d_in=cfg[\"emb_dim\"],\n",
    "        d_out=cfg[\"emb_dim\"],\n",
    "        context_length=cfg[\"context_length\"],\n",
    "        num_heads=cfg[\"n_heads\"],\n",
    "        dropout_rate=cfg[\"dropout_rate\"],\n",
    "        qkv_bias=cfg[\"qkv_bias\"])\n",
    "\n",
    "        # Second sub-layer: Feed-Forward Network\n",
    "        self.ff = FeedForward(cfg)\n",
    "\n",
    "        # Layer normalization for each sub-layer\n",
    "        self.norm1 = LayerNorm(cfg[\"emb_dim\"])\n",
    "        self.norm2 = LayerNorm(cfg[\"emb_dim\"])\n",
    "\n",
    "        # Dropout for the shortcut connection\n",
    "        self.drop_shortcut = nn.Dropout(cfg[\"dropout_rate\"])\n",
    "\n",
    "    def forward(self, x):\n",
    "        # --- Attention Block with Shortcut Connection ---\n",
    "        shortcut = x\n",
    "        x_norm = self.norm1(x)\n",
    "        attn_output = self.attn(x_norm)\n",
    "        x = shortcut + self.drop_shortcut(attn_output)\n",
    "\n",
    "        # --- Feed-Forward Block with Shortcut Connection ---\n",
    "        shortcut = x\n",
    "        x_norm = self.norm2(x)\n",
    "        ff_output = self.ff(x_norm)\n",
    "        x = shortcut + self.drop_shortcut(ff_output)\n",
    "\n",
    "        return x"
   ]
  },
  {
   "cell_type": "markdown",
   "id": "b7123a0c-9273-47c9-8395-419370cd758a",
   "metadata": {},
   "source": [
    "### 3.7.2 Testing the Block"
   ]
  },
  {
   "cell_type": "markdown",
   "id": "1752dd6e-fa72-48c9-9c32-6abdb63fb20d",
   "metadata": {},
   "source": [
    "<div class=\"alert alert-block alert-success\">\n",
    "    \n",
    "Now, let's instantiate our `TransformerBlock` and pass a sample batch of data through it to verify that it maintains the input shape, as expected.\n",
    "</div>"
   ]
  },
  {
   "cell_type": "code",
   "execution_count": 20,
   "id": "5a0f99d9-5fe9-423e-a3bf-e86a06acd16e",
   "metadata": {},
   "outputs": [
    {
     "name": "stdout",
     "output_type": "stream",
     "text": [
      "Input shape: torch.Size([2, 4, 768])\n",
      "Output shape: torch.Size([2, 4, 768])\n"
     ]
    }
   ],
   "source": [
    "torch.manual_seed(100)\n",
    "\n",
    "# Create a sample input batch: (batch_size, num_tokens, emb_dim)\n",
    "x = torch.rand(2, 4, GPT_CONFIG_124M[\"emb_dim\"])\n",
    "\n",
    "block = TransformerBlock(GPT_CONFIG_124M)\n",
    "output = block(x)\n",
    "\n",
    "print(\"Input shape:\", x.shape)\n",
    "print(\"Output shape:\", output.shape)"
   ]
  },
  {
   "cell_type": "markdown",
   "id": "bd9175ff-863a-4caf-a6c3-6498e1a2d999",
   "metadata": {},
   "source": [
    "## 3.8 Final Assembly: The Complete `GPTModel`"
   ]
  },
  {
   "cell_type": "markdown",
   "id": "bee4abcb-b691-4640-b9b2-faa8d48b2aeb",
   "metadata": {},
   "source": [
    "<div class=\"alert alert-block alert-success\">\n",
    "    \n",
    "With the `TransformerBlock` now fully defined, we have the last and most important building block. We can now assemble all of our components -the *embeddings*, the *stack of transformer blocks*, and the final *output layers*- into the complete `GPTModel` architecture.\n",
    "</div>"
   ]
  },
  {
   "cell_type": "markdown",
   "id": "1d0ce33a-670a-4438-b692-59ceddb40779",
   "metadata": {},
   "source": [
    "### 3.8.1 Defining the `GPTModel` Class"
   ]
  },
  {
   "cell_type": "code",
   "execution_count": 8,
   "id": "677e30e3-4a5c-4a80-9cac-f39a51e9ee65",
   "metadata": {},
   "outputs": [],
   "source": [
    "class GPTModel(nn.Module):\n",
    "    def __init__(self, cfg):\n",
    "        super().__init__()\n",
    "        self.tok_emb = nn.Embedding(cfg[\"vocab_size\"], cfg[\"emb_dim\"])\n",
    "        self.pos_emb = nn.Embedding(cfg[\"context_length\"], cfg[\"emb_dim\"])\n",
    "        self.drop_emb = nn.Dropout(cfg[\"dropout_rate\"])\n",
    "\n",
    "        # A sequential stack of Transformers\n",
    "        self.trf_blocks = nn.Sequential(\n",
    "            *[TransformerBlock(cfg) for _ in range(cfg[\"n_layers\"])]\n",
    "        )\n",
    "\n",
    "        self.final_norm = LayerNorm(cfg[\"emb_dim\"])\n",
    "        self.out_head = nn.Linear(cfg[\"emb_dim\"], cfg[\"vocab_size\"], bias=False)\n",
    "\n",
    "    def forward(self, in_idx):\n",
    "        batch_size, seq_len = in_idx.shape\n",
    "        tok_embeds = self.tok_emb(in_idx)\n",
    "        pos_embeds = self.pos_emb(torch.arange(seq_len, device=in_idx.device))\n",
    "        x = tok_embeds + pos_embeds\n",
    "        x = self.drop_emb(x)\n",
    "        x = self.trf_blocks(x)\n",
    "        x = self.final_norm(x)\n",
    "        logits = self.out_head(x)\n",
    "        return logits"
   ]
  },
  {
   "cell_type": "markdown",
   "id": "bb2cdf85-6f90-4c76-bf17-e8201623ceb0",
   "metadata": {},
   "source": [
    "<div class=\"alert alert-block alert-success\">\n",
    "    \n",
    "The `GPTModel` class uses its `__init__` constructor to build the layers of the network based on the provided configuration (`cfg`):\n",
    "\n",
    "* **Embedding Layers:** It initializes `tok_emb` and `pos_emb` layers. These are responsible for comverting input token IDs into vectors and adding positional information. A `dropout` layer (`drop_emb`) is also initialized for regularization.\n",
    "\n",
    "* **Transformer Blocks:** It creates a sequential stack of the `TransformerBlock` modules we built previously. The number of blocks is determined by `n_layers` in the configuration dictionary.\n",
    "\n",
    "* **Final Layers:** A final `LayerNorm` is applied for stability, followed by a linear `out_head` layer. This output head projects the transformer's output back into the vocabulary space to generate a score for every possible token.\n",
    "\n",
    "\n",
    "The **forward** method then defines the data's journey through these layers, taking token IDs as input and producing the final `logits` (the raw scores for the next-token prediction.\n",
    "</div>"
   ]
  },
  {
   "cell_type": "markdown",
   "id": "95459da9-0b36-406d-959b-ae6bcfc85183",
   "metadata": {},
   "source": [
    "<div class=\"alert alert-block alert-success\">\n",
    "We will convert these logits into tokens and text outputs in the next section.\n",
    "</div>"
   ]
  },
  {
   "cell_type": "markdown",
   "id": "4aaeceaa-caea-4f6c-bbed-4197985ff3f7",
   "metadata": {},
   "source": [
    "### 3.8.2 Testing the Full Model"
   ]
  },
  {
   "cell_type": "markdown",
   "id": "bdcd30d9-7f67-4570-9a7c-80643c4a5d2e",
   "metadata": {},
   "source": [
    "<div class=\"alert alert-block alert-success\">\n",
    "    \n",
    "Let's now instantiate our complete `GPTModel` using the `GPT_CONFIG_124M` dictionary and feed it the sample batch we created earlier. This will verify that the data flows through the entire stack of components correctly and produces an output of the expected shape.\n",
    "</div>"
   ]
  },
  {
   "cell_type": "code",
   "execution_count": 20,
   "id": "404eb503-58e2-4708-9502-aa41bf31373d",
   "metadata": {},
   "outputs": [
    {
     "name": "stdout",
     "output_type": "stream",
     "text": [
      "Input batch shape: torch.Size([2, 4])\n",
      "\n",
      "Output batch shape: torch.Size([2, 4, 50257])\n"
     ]
    }
   ],
   "source": [
    "torch.manual_seed(100)\n",
    "model = GPTModel(GPT_CONFIG_124M)\n",
    "\n",
    "out = model (batch)\n",
    "\n",
    "print(\"Input batch shape:\", batch.shape)\n",
    "print(\"\\nOutput batch shape:\", out.shape)"
   ]
  },
  {
   "cell_type": "markdown",
   "id": "c95f43b9-1604-4e2f-bcdf-dec8104620eb",
   "metadata": {},
   "source": [
    "<div class=\"alert alert-block alert-success\">\n",
    "    \n",
    "As we can see, the output tensor has the shape `[2, 4, 50257]`, since we passed in 2 input texts with 4 tokens each. The final dimension, 50,257, correctly corresponds to the vocabulary size of the tokenizer.\n",
    "</div>"
   ]
  },
  {
   "cell_type": "markdown",
   "id": "1891b5b4-717e-43a7-8c4d-95ebc21c919b",
   "metadata": {},
   "source": [
    "### 3.8.3 Analyzing the Parameter Count"
   ]
  },
  {
   "cell_type": "markdown",
   "id": "dda5d155-88b4-4aea-a9d6-c7030691095d",
   "metadata": {},
   "source": [
    "<div class=\"alert alert-block alert-success\">\n",
    "    \n",
    "Now, let's see how large our model is by calculating its total number of parameters using the `.numel()` method, which is short for \"number of elements\".\n",
    "</div>"
   ]
  },
  {
   "cell_type": "code",
   "execution_count": 23,
   "id": "27982f4f-0d11-4dcc-bdc3-2849085a9b87",
   "metadata": {},
   "outputs": [
    {
     "name": "stdout",
     "output_type": "stream",
     "text": [
      "Total number of parameters: 163,009,536\n"
     ]
    }
   ],
   "source": [
    "total_params = sum(p.numel() for p in model.parameters())\n",
    "print(f\"Total number of parameters: {total_params:,}\")"
   ]
  },
  {
   "cell_type": "markdown",
   "id": "252932b5-78af-4592-9727-a36e3aaf5cb3",
   "metadata": {},
   "source": [
    "<div class=\"alert alert-block alert-info\">\n",
    "    \n",
    "<b>Why 163M Parameters Instead of 124M? A Note on Weight Tying</b><br>\n",
    "You might wonder why our model has 163 million parameters, while the GPT-2 model we're basing it on is famous for having 124 million. The reason is a concept called <b>weight tying</b>.\n",
    "\n",
    "The original GPT-2 architecture re-used the weights from the token embedding layer (`tok_emb`) as its final output layer (`out_head`). This saves a significant number of parameters. Our `GPTModel` uses separate weights for each, which is a more modern and often better-performing practice.\n",
    "\n",
    "If we subtract the parameters from our output head, we arrive at the original GPT-2 number.\n",
    "    \n",
    "    \n",
    "</div>"
   ]
  },
  {
   "cell_type": "code",
   "execution_count": 26,
   "id": "c5662a1e-cf04-49f6-9181-512aebbf1587",
   "metadata": {},
   "outputs": [
    {
     "name": "stdout",
     "output_type": "stream",
     "text": [
      "Token embedding layer shape: torch.Size([50257, 768])\n",
      "Output layer shape: torch.Size([50257, 768])\n",
      "\n",
      "Number of parameters considering weight tying: 124,412,160\n"
     ]
    }
   ],
   "source": [
    "# Verify the shapes of the layers\n",
    "print(\"Token embedding layer shape:\", model.tok_emb.weight.shape)\n",
    "print(\"Output layer shape:\", model.out_head.weight.shape)\n",
    "\n",
    "# Calculate the parameter count without the final output layer\n",
    "total_params_gpt2 = total_params - sum(p.numel() for p in model.out_head.parameters())\n",
    "print(f\"\\nNumber of parameters considering weight tying: {total_params_gpt2:,}\")"
   ]
  },
  {
   "cell_type": "markdown",
   "id": "3327ba45-b594-4aeb-aa83-8fd2fd8fd4c6",
   "metadata": {},
   "source": [
    "### 3.8.4 Calculating Memory Footprint"
   ]
  },
  {
   "cell_type": "markdown",
   "id": "8d96e835-ace4-4747-a924-f110b32cccea",
   "metadata": {},
   "source": [
    "<div class=\"alert alert-block alert-success\">\n",
    "    \n",
    "Finally, let's see how much memory these 163 million parameters wwill occupy. Assuming each parameter is a standard 32-bit float (which takes up 4 bytes), we can calculate the model's size.\n",
    "</div>"
   ]
  },
  {
   "cell_type": "code",
   "execution_count": 27,
   "id": "301d0c0d-1432-4e5d-8803-3d61fb8b197e",
   "metadata": {},
   "outputs": [
    {
     "name": "stdout",
     "output_type": "stream",
     "text": [
      "Total size of the model: 621.83 MB\n"
     ]
    }
   ],
   "source": [
    "# Each parameter is a 32-bit float (4 bytes)\n",
    "total_size_bytes = total_params * 4\n",
    "\n",
    "# Convert bytes to megabytes (1 MB = 1024 * 1024 bytes)\n",
    "total_size_mb = total_size_bytes / (1024 * 1024)\n",
    "\n",
    "print(f\"Total size of the model: {total_size_mb:.2f} MB\")"
   ]
  },
  {
   "cell_type": "markdown",
   "id": "2a63fa60-a196-4521-92ef-26fa9d518385",
   "metadata": {},
   "source": [
    "<div class=\"alert alert-block alert-success\">\n",
    "The total size of over 600 MB illustrates the significant storage and memory capacity required to accommodate even relatively small LLMs like this one.\n",
    "</div>"
   ]
  },
  {
   "cell_type": "markdown",
   "id": "0ea0376b-e74b-4893-87ca-84b7d9ef2be0",
   "metadata": {},
   "source": [
    "# Chapter 3 Summary and Next Steps\n",
    "\n",
    "This marks the end of our journey in building a complete GPT model architecture from scratch. We have successfully progressed from the most fundamental concepts of self-attention to assembling a full, functional language model, ready for training.\n",
    "\n",
    "<div class=\"alert alert-block alert-success\">\n",
    "  <b>Congratulations on This Major Accomplishment!</b><br>\n",
    "  Throughout these notebooks, we have:\n",
    "  <ul>\n",
    "    <li>Implemented the core <b>self-attention mechanism</b> from first principles.</li>\n",
    "    <li>Built essential layers like <b>LayerNorm</b>, <b>GELU</b>, and position-wise <b>Feed-Forward Networks</b>.</li>\n",
    "    <li>Scaled up our attention with a professional <b>Multi-Head Attention</b> module.</li>\n",
    "    <li>Assembled all these components into the fundamental, repeating <b>Transformer Block</b>.</li>\n",
    "    <li>Constructed the final <b>`GPTModel`</b>, capable of taking token IDs as input and producing logits as output.</li>\n",
    "  </ul>\n",
    "</div>\n",
    "\n",
    "### Where We Are Now\n",
    "We have a complete, architecturally correct GPT model with randomly initialized weights. As we saw in the text generation step, this untrained model produces incoherent gibberish. This is the expected and correct state at this stage. The \"brain\" has been built, but it has not yet learned anything.\n",
    "\n",
    "### What Are the Next Steps?\n",
    "Building the architecture is a huge part of the challenge, but the journey to a powerful LLM continues. The next logical steps would be:\n",
    "* **Training the Model:** Implementing a training loop that feeds the model large amounts of text data, calculates a loss (using cross-entropy), and updates the model's weights via an optimizer like AdamW.\n",
    "* **Scaling Up:** Training a model with more layers, more attention heads, and a larger embedding dimension on a massive dataset (many gigabytes of text), likely on GPU hardware.\n",
    "* **Improving Text Generation:** Implementing more sophisticated sampling techniques beyond simple `argmax` (greedy decoding), such as temperature sampling or nucleus sampling, to generate more creative and diverse text.\n",
    "* **Evaluation:** Establishing metrics like perplexity to objectively measure how well the model has learned the language after training.\n",
    "\n",
    "Thank you for following along on this deep dive. Understanding these models from the ground up provides a powerful foundation for working with and building upon any language model in the field."
   ]
  }
 ],
 "metadata": {
  "kernelspec": {
   "display_name": "Python 3 (ipykernel)",
   "language": "python",
   "name": "python3"
  },
  "language_info": {
   "codemirror_mode": {
    "name": "ipython",
    "version": 3
   },
   "file_extension": ".py",
   "mimetype": "text/x-python",
   "name": "python",
   "nbconvert_exporter": "python",
   "pygments_lexer": "ipython3",
   "version": "3.10.11"
  }
 },
 "nbformat": 4,
 "nbformat_minor": 5
}
