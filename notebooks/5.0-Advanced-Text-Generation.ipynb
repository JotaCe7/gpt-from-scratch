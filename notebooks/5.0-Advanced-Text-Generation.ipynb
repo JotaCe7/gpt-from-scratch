{
 "cells": [
  {
   "cell_type": "markdown",
   "id": "6ed93f6f-abb7-4ddd-81ff-ea11ee167340",
   "metadata": {
    "jp-MarkdownHeadingCollapsed": true
   },
   "source": [
    "# Chapter 5: Advanced Text Generation Strategies"
   ]
  }
 ],
 "metadata": {
  "kernelspec": {
   "display_name": "Python 3 (ipykernel)",
   "language": "python",
   "name": "python3"
  },
  "language_info": {
   "codemirror_mode": {
    "name": "ipython",
    "version": 3
   },
   "file_extension": ".py",
   "mimetype": "text/x-python",
   "name": "python",
   "nbconvert_exporter": "python",
   "pygments_lexer": "ipython3",
   "version": "3.10.11"
  }
 },
 "nbformat": 4,
 "nbformat_minor": 5
}
