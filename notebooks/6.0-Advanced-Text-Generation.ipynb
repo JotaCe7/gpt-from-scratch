{
 "cells": [
  {
   "cell_type": "markdown",
   "id": "6ed93f6f-abb7-4ddd-81ff-ea11ee167340",
   "metadata": {},
   "source": [
    "# Chapter 6: Advanced Text Generation Strategies"
   ]
  },
  {
   "cell_type": "markdown",
   "id": "973678b5-9f4d-4464-9796-d0ef1da0fad2",
   "metadata": {},
   "source": [
    "<div class=\"alert alert-block alert-success\">\n",
    "In the previous chapter, we successfully trained our GPT model. To generate text, we used **greedy decoding** (always picking the single most likely token with `argmax`). While functional, this approach is deterministic and often leads to repetitive and boring text.\n",
    "\n",
    "To generate more creative and varied responses, we need to introduce controlled randomness by sampling from the model's predicted probability distribution. This chapter will cover two popular techniques to control this sampling process:\n",
    "\n",
    "1.  **Temperature Scaling:** To make the model's predictions more or less random.\n",
    "2.  **Top-k Sampling:** To restrict the sampling pool to plausible tokens, avoiding nonsensical words.\n",
    "\n",
    "Finally, we'll combine these into a new, more powerful `generate` function.\n",
    "</div>"
   ]
  },
  {
   "cell_type": "markdown",
   "id": "a0c7ea41-f4da-4bad-b6bc-997601435f1c",
   "metadata": {},
   "source": [
    "## 6.1 Import and Setup: Loading the Trained Model"
   ]
  },
  {
   "cell_type": "markdown",
   "id": "4a91af9b-edf8-436e-a31e-50844f0a58cf",
   "metadata": {},
   "source": [
    "<div class=\"alert alert-block alert-success\">\n",
    "    \n",
    "For these demonstrations, we need a trained model. We will load the model that was saved at the end of Chapter 5. We will also set it up on the CPU for inference, as a powerful GPU is not required for generating short text samples.\n",
    "</div>"
   ]
  },
  {
   "cell_type": "code",
   "execution_count": 1,
   "id": "16c8a579-6eaf-482f-8091-b03e9d5f89a2",
   "metadata": {},
   "outputs": [
    {
     "name": "stdout",
     "output_type": "stream",
     "text": [
      "Trained model loaded successfully.\n"
     ]
    }
   ],
   "source": [
    "# --- Imports and Setup ---\n",
    "import sys\n",
    "import os\n",
    "\n",
    "import torch\n",
    "import tiktoken\n",
    "import matplotlib.pyplot as plt\n",
    "\n",
    "# --- Add Project Root to Python Path ---\n",
    "\n",
    "# Get the directory of the current notebook\n",
    "current_notebook_dir = os.getcwd()\n",
    "\n",
    "# Go up one level to the project's root directory\n",
    "project_root = os.path.abspath(os.path.join(current_notebook_dir, '..'))\n",
    "\n",
    "# Add the project root to the Python path if it's not already there\n",
    "if project_root not in sys.path:\n",
    "    sys.path.append(project_root)\n",
    "\n",
    "# --- Imports from your `src` package ---\n",
    "from src.model import GPTModel, TransformerBlock\n",
    "from src.layers import LayerNorm, GELU, FeedForward\n",
    "from src.text_generation import generate_text_simple\n",
    "from src.config import GPT_CONFIG_124M_SMALL\n",
    "from src.utils import text_to_token_ids, token_ids_to_text\n",
    "\n",
    "# --- Load the Trained Model ---\n",
    "model = GPTModel(GPT_CONFIG_124M_SMALL)\n",
    "# Replace with the actual path to your saved model from Chapter 5\n",
    "model.load_state_dict(torch.load(\"../models/model.pth\")) \n",
    "model.eval() # Set to evaluation mode\n",
    "\n",
    "print(\"Trained model loaded successfully.\")"
   ]
  },
  {
   "cell_type": "markdown",
   "id": "b8b35eda-ad58-40f4-b8b4-c29021ac136f",
   "metadata": {},
   "source": [
    "## 6.2 Beyond Greedy Decoding: Probabilistic Sampling"
   ]
  },
  {
   "cell_type": "markdown",
   "id": "de5a2bec-a282-4939-aca5-5055822d4f24",
   "metadata": {},
   "source": [
    "<div class=\"alert alert-block alert-success\">\n",
    "\n",
    "First, we briefly revisit the generate_text_simple function from the previous chapter.\n",
    "\n",
    "Then, we will cover two techniques, **temperature scaling**, and **top-k sampling**, to improve this function.\n",
    "</div>"
   ]
  },
  {
   "cell_type": "markdown",
   "id": "3be78217-bd6c-49bb-8d8e-38b857beb5e3",
   "metadata": {},
   "source": [
    "<div class=\"alert alert-block alert-success\">\n",
    "    \n",
    "Greedy decoding is limited because it always chooses the same path. To add variety, we can sample from the probability distribution using `torch.multinomial`. This function selects a token based on its probability, so higher-probability tokens are chosen more often, but lower-probability ones still have a chance.\n",
    "</div>"
   ]
  },
  {
   "cell_type": "markdown",
   "id": "1a34fe1d-dde9-40de-8505-5ee28dd4716c",
   "metadata": {},
   "source": [
    "<div class=\"alert alert-block alert-success\">\n",
    "\n",
    "Let's start by plugging the GPTModel trained instance (`model`) into the `generate_text_simple` function, which uses the LLM to generate a token at a time:\n",
    "</div>"
   ]
  },
  {
   "cell_type": "code",
   "execution_count": 2,
   "id": "c642170d-0701-4dd1-a90c-ac3144c77ac2",
   "metadata": {},
   "outputs": [
    {
     "name": "stdout",
     "output_type": "stream",
     "text": [
      "Output text:\n",
      " Every effort moves you?\"\n",
      "\n",
      "\"Yes--quite insensible to the fact with equanimity. Gisburn's an awful simpleton\n"
     ]
    }
   ],
   "source": [
    "tokenizer = tiktoken.get_encoding(\"gpt2\")\n",
    "\n",
    "token_ids = generate_text_simple(\n",
    "    model=model,\n",
    "    idx=text_to_token_ids(\"Every effort moves you\", tokenizer),\n",
    "    max_new_tokens=25,\n",
    "    context_size=GPT_CONFIG_124M_SMALL[\"context_length\"]\n",
    ")\n",
    "\n",
    "print(\"Output text:\\n\", token_ids_to_text(token_ids, tokenizer))"
   ]
  },
  {
   "cell_type": "code",
   "execution_count": 3,
   "id": "f85bf55d-934e-4c5c-b577-fc44640b2e2e",
   "metadata": {},
   "outputs": [
    {
     "name": "stdout",
     "output_type": "stream",
     "text": [
      "The model is on: cpu\n"
     ]
    }
   ],
   "source": [
    "# Get the device of the first parameter\n",
    "device = next(model.parameters()).device\n",
    "\n",
    "# Print the device\n",
    "print(f\"The model is on: {device}\")"
   ]
  },
  {
   "cell_type": "markdown",
   "id": "a24e51bb-7896-4758-99be-053f2f50b7f4",
   "metadata": {},
   "source": [
    "## 6.3 Beyond Greedy Decoding: Probabilistic Sampling"
   ]
  },
  {
   "cell_type": "markdown",
   "id": "a8a6ee9d-6305-4c6d-80fe-1e4906fd1f73",
   "metadata": {},
   "source": [
    "<div class=\"alert alert-block alert-success\">\n",
    "\n",
    "Greedy decoding is limited because it always chooses the same path. To add variety, we can sample from the probability distribution using `torch.multinomial`. This function selects a token based on its probability, so higher-probability tokens are chosen more often, but lower-probability ones still have a chance.\n",
    "\n",
    "To illustrate the probabilistic sampling with a concrete example, let's briefly discuss the next-token generation process using a very small vocabulary for illustration purposes:\n",
    "</div>"
   ]
  },
  {
   "cell_type": "code",
   "execution_count": 4,
   "id": "867d6e7d-0dc2-448a-9a4f-03312498e285",
   "metadata": {},
   "outputs": [],
   "source": [
    "vocab = { \n",
    "    \"closer\": 0,\n",
    "    \"every\": 1, \n",
    "    \"effort\": 2, \n",
    "    \"forward\": 3,\n",
    "    \"inches\": 4,\n",
    "    \"moves\": 5, \n",
    "    \"pizza\": 6,\n",
    "    \"toward\": 7,\n",
    "    \"you\": 8,\n",
    "} \n",
    "\n",
    "inverse_vocab = {v: k for k, v in vocab.items()}"
   ]
  },
  {
   "cell_type": "markdown",
   "id": "bcde6e9d-2bcd-41af-9fc9-8715c31f1aa2",
   "metadata": {},
   "source": [
    "<div class=\"alert alert-block alert-success\">\n",
    "\n",
    "Let's assume our LLM is given the start context \"every effort moves you\" and generates the following next-token logits:\n",
    "</div>"
   ]
  },
  {
   "cell_type": "code",
   "execution_count": 5,
   "id": "38b85f3a-848e-40cc-9e40-ce71e5173864",
   "metadata": {},
   "outputs": [],
   "source": [
    "next_token_logits = torch.tensor(\n",
    "[4.51, 0.89, -1.90, 6.75, 1.63, -1.62, -1.89, 6.28, 1.79]\n",
    ")"
   ]
  },
  {
   "cell_type": "markdown",
   "id": "f295839e-4bf9-4bf9-aec3-e4dcf09231b4",
   "metadata": {},
   "source": [
    "<div class=\"alert alert-block alert-success\">\n",
    "\n",
    "Then we convert the logits into probabilities via the softmax function and obtain the token ID corresponding the generated token via the argmax function, which we can then map back into text via the inverse vocabulary:\n",
    "</div>"
   ]
  },
  {
   "cell_type": "code",
   "execution_count": 6,
   "id": "1204ec1a-94c2-460a-8c94-8165f11e3c1d",
   "metadata": {},
   "outputs": [
    {
     "name": "stdout",
     "output_type": "stream",
     "text": [
      "Probabilities: tensor([6.0907e-02, 1.6313e-03, 1.0019e-04, 5.7212e-01, 3.4190e-03, 1.3257e-04,\n",
      "        1.0120e-04, 3.5758e-01, 4.0122e-03])\n",
      "Next token ID: 3\n",
      "Word corresponding to next token ID: forward\n"
     ]
    }
   ],
   "source": [
    "probas = torch.softmax(next_token_logits, dim=0)\n",
    "\n",
    "print(\"Probabilities:\", probas)\n",
    "\n",
    "next_token_id = torch.argmax(probas).item()\n",
    "\n",
    "print(\"Next token ID:\", next_token_id)\n",
    "\n",
    "print(\"Word corresponding to next token ID:\", inverse_vocab[next_token_id])"
   ]
  },
  {
   "cell_type": "markdown",
   "id": "343b3bff-3e4d-4f15-8926-31fe936e9e47",
   "metadata": {},
   "source": [
    "<div class=\"alert alert-block alert-success\">\n",
    "\n",
    "To implement a probabilistic sampling process, we can now replace the argmax with the `multinomial` function in PyTorch:\n",
    "</div>"
   ]
  },
  {
   "cell_type": "code",
   "execution_count": 7,
   "id": "e9c32027-de21-49e0-be3a-7d610166a994",
   "metadata": {},
   "outputs": [
    {
     "name": "stdout",
     "output_type": "stream",
     "text": [
      "Word corresponding to next token: forward\n"
     ]
    }
   ],
   "source": [
    "torch.manual_seed(100)\n",
    "next_token_id = torch.multinomial(probas, num_samples=1).item()\n",
    "print(\"Word corresponding to next token:\", inverse_vocab[next_token_id])"
   ]
  },
  {
   "cell_type": "markdown",
   "id": "7f39796f-12b2-48be-b612-6a790260bf55",
   "metadata": {},
   "source": [
    "<div class=\"alert alert-block alert-success\">\n",
    "\n",
    "The printed output is \"forward\" just like before. **What happened?** The multinomial function samples the next token proportional to its probability score. \n",
    "\n",
    "In other words, \"forward\" is still the most likely token and will be selected by multinomial most of the time but not all the time. \n",
    "\n",
    "To illustrate this, let's implement a function that repeats this sampling 1000 times:\n",
    "\n",
    "</div>"
   ]
  },
  {
   "cell_type": "code",
   "execution_count": 8,
   "id": "8dda34fc-9c5d-4df0-bc2b-fafc40550217",
   "metadata": {},
   "outputs": [
    {
     "name": "stdout",
     "output_type": "stream",
     "text": [
      "69 x closer\n",
      "2 x every\n",
      "0 x effort\n",
      "569 x forward\n",
      "8 x inches\n",
      "0 x moves\n",
      "0 x pizza\n",
      "347 x toward\n",
      "5 x you\n"
     ]
    }
   ],
   "source": [
    "def print_sampled_tokens(probas):\n",
    "    torch.manual_seed(100) # Manual seed for reproducibility\n",
    "    sample = [torch.multinomial(probas, num_samples=1).item() for i in range(1_000)]\n",
    "    sampled_ids = torch.bincount(torch.tensor(sample))\n",
    "    for i, freq in enumerate(sampled_ids):\n",
    "        print(f\"{freq} x {inverse_vocab[i]}\")\n",
    "\n",
    "print_sampled_tokens(probas)"
   ]
  },
  {
   "cell_type": "markdown",
   "id": "eabea055-db59-4927-9fd2-d14588c978c4",
   "metadata": {},
   "source": [
    "<div class=\"alert alert-block alert-info\">\n",
    "\n",
    "As we can see based on the output, the word \"forward\" is sampled most of the time (569 out of 1000 times), but other tokens such as \"closer\", \"inches\", and \"toward\" will also be sampled some of the time. \n",
    "\n",
    "This means that if we replaced the argmax function with the multinomial function inside the `generate_and_print_sample` function that we defined in Chapter 5, the LLM would sometimes generate texts such as \"every effort moves you toward\", \"every effort moves you inches\", and \"every effort moves you closer\" instead of \"every effort moves you forward\".\n",
    "</div>"
   ]
  },
  {
   "cell_type": "markdown",
   "id": "1a473258-edb3-443f-8bf8-b6df36b3c0e0",
   "metadata": {},
   "source": [
    "## 6.3 Decoding Strategy 1: Temperature Scaling"
   ]
  },
  {
   "cell_type": "markdown",
   "id": "bca5c304-dcf6-41d6-8019-209f2a306dcd",
   "metadata": {},
   "source": [
    "<div class=\"alert alert-block alert-success\">\n",
    "\n",
    "We can further control the \"randomness\" of our generated text with **temperature scaling**. We simply divide the logits by a temperature value before the softmax function.\n",
    "\n",
    "Let's illustrate this by plotting the original probabilities alongside probabilities scaled with different temperature values:\n",
    "</div>"
   ]
  },
  {
   "cell_type": "code",
   "execution_count": 9,
   "id": "dfce5154-3b16-498a-a6cd-2893cdd410dc",
   "metadata": {},
   "outputs": [
    {
     "data": {
      "image/png": "[encoded data removed]",
      "text/plain": [
       "<Figure size 1000x500 with 1 Axes>"
      ]
     },
     "metadata": {},
     "output_type": "display_data"
    }
   ],
   "source": [
    "def softmax_with_temperature(logits, temperature):\n",
    "    scaled_logits = logits / temperature\n",
    "    return torch.softmax(scaled_logits, dim=0)\n",
    "\n",
    "# Temperature values\n",
    "temperatures = [1, 0.1, 5]  # Original, higher confidence, and lower confidence\n",
    "\n",
    "# Calculate scaled probabilities\n",
    "scaled_probas = [softmax_with_temperature(next_token_logits, T) for T in temperatures]\n",
    "\n",
    "# Plotting\n",
    "x = torch.arange(len(vocab))\n",
    "bar_width = 0.15\n",
    "\n",
    "fig, ax = plt.subplots(figsize=(10, 5))\n",
    "for i, T in enumerate(temperatures):\n",
    "    rects = ax.bar(x + i * bar_width, scaled_probas[i], bar_width, label=f'Temperature = {T}')\n",
    "\n",
    "ax.set_ylabel('Probability')\n",
    "ax.set_xticks(x)\n",
    "ax.set_xticklabels(vocab.keys(), rotation=90)\n",
    "ax.legend()\n",
    "\n",
    "plt.tight_layout()\n",
    "plt.savefig(\"temperature-plot.pdf\")\n",
    "plt.show()"
   ]
  },
  {
   "cell_type": "markdown",
   "id": "9d461b63-52cf-4fc9-a895-52a254900cee",
   "metadata": {},
   "source": [
    "<div class=\"alert alert-block alert-info\">\n",
    "    \n",
    "**A Note on Temperature**\n",
    "\n",
    "Temperature scaling controls the randomness of the text generation. Think of temperature as a \"creativity\" knob:\n",
    "\n",
    "* A **low temperature (&lt; 1.0)** makes the distribution sharper. The model becomes more confident and conservative, similar to greedy decoding.\n",
    "\n",
    "* A **temperature of 1** is the default and uses the standard softmax probabilities for sampling.\n",
    "\n",
    "* A **high temperature (&gt; 1.0)** makes the distribution flatter. The model takes more risks, giving lower-probability tokens a higher chance. This increases creativity but also the risk of errors.\n",
    "\n",
    "For example, using the temperature of 5 results in texts such as **\"every effort moves you pizza\"** about **4% of the time**.\n",
    "</div>"
   ]
  },
  {
   "cell_type": "markdown",
   "id": "eacaba2b-83c7-4686-aaa6-cf18e4aaaa1a",
   "metadata": {},
   "source": [
    "## 6.4 Decoding Strategy 2: Top-k Sampling"
   ]
  },
  {
   "cell_type": "markdown",
   "id": "1f0ca824-79dc-4387-b8c5-1bc6a82165c8",
   "metadata": {},
   "source": [
    "<div class=\"alert alert-block alert-success\">\n",
    "\n",
    "A downside of high temperature is that it can sample completely nonsensical tokens. **Top-k sampling** fixes this by limiting the sampling pool to only the `k` most likely tokens and exclude all other tokens from the selection process by masking their probability scores. This provides a great balance between creativity and coherence.\n",
    "</div>"
   ]
  },
  {
   "cell_type": "code",
   "execution_count": 10,
   "id": "37d520d5-e73a-487a-b73a-267589efafdf",
   "metadata": {},
   "outputs": [
    {
     "name": "stdout",
     "output_type": "stream",
     "text": [
      "Top logits: tensor([6.7500, 6.2800, 4.5100])\n",
      "Top positions: tensor([3, 7, 0])\n"
     ]
    }
   ],
   "source": [
    "top_k = 3\n",
    "top_logits, top_pos = torch.topk(next_token_logits, top_k)\n",
    "print(\"Top logits:\", top_logits)\n",
    "print(\"Top positions:\", top_pos)"
   ]
  },
  {
   "cell_type": "markdown",
   "id": "6509b5f9-42c8-431f-8464-b9182cbbbd89",
   "metadata": {},
   "source": [
    "<div class=\"alert alert-block alert-success\">\n",
    "\n",
    "Subsequently, we apply PyTorch's `where` function to set the logit values of tokens that are below the lowest logit value within our **top-3** selection to negative infinity (`-inf`).\n",
    "</div>"
   ]
  },
  {
   "cell_type": "code",
   "execution_count": 11,
   "id": "f334cabb-b719-4c59-a6c1-d585bbae6c70",
   "metadata": {},
   "outputs": [
    {
     "name": "stdout",
     "output_type": "stream",
     "text": [
      "tensor([4.5100,   -inf,   -inf, 6.7500,   -inf,   -inf,   -inf, 6.2800,   -inf])\n"
     ]
    }
   ],
   "source": [
    "new_logits = torch.where(\n",
    "    condition=next_token_logits < top_logits[-1],\n",
    "    input=torch.tensor(float(\"-inf\")), \n",
    "    other=next_token_logits\n",
    ")\n",
    "\n",
    "print(new_logits)"
   ]
  },
  {
   "cell_type": "markdown",
   "id": "43c9ee44-1422-4919-8006-e503e46d86ad",
   "metadata": {},
   "source": [
    "<div class=\"alert alert-block alert-success\">\n",
    "\n",
    "Lastly, let's apply the `softmax` function to turn these into next-token probabilities:\n",
    "</div>"
   ]
  },
  {
   "cell_type": "code",
   "execution_count": 12,
   "id": "8e775aa0-7127-4ad6-bd92-3f9e86fffbc0",
   "metadata": {},
   "outputs": [
    {
     "name": "stdout",
     "output_type": "stream",
     "text": [
      "tensor([0.0615, 0.0000, 0.0000, 0.5775, 0.0000, 0.0000, 0.0000, 0.3610, 0.0000])\n"
     ]
    }
   ],
   "source": [
    "topk_probas = torch.softmax(new_logits, dim=0)\n",
    "print(topk_probas)"
   ]
  },
  {
   "cell_type": "markdown",
   "id": "da4aca8c-6b79-40cd-a12b-3fc89acf784c",
   "metadata": {},
   "source": [
    "## 6.5 The Final `generate` Function - Merging Temperature Scaling and Top-k Sampling"
   ]
  },
  {
   "cell_type": "markdown",
   "id": "69a6b828-af3d-4182-b240-e6c3a746e073",
   "metadata": {},
   "source": [
    "<div class=\"alert alert-block alert-success\">\n",
    "\n",
    "Now, let's combine all these concepts—probabilistic sampling (`torch.multinomial`), temperature scaling, and top-k filtering—into a final, powerful `generate` function.\n",
    "</div>"
   ]
  },
  {
   "cell_type": "code",
   "execution_count": 13,
   "id": "22b2d89c-6f13-4cfc-a154-de4d65d2c1d9",
   "metadata": {},
   "outputs": [],
   "source": [
    "def generate(model, idx, max_new_tokens, context_size, temperature=0.0, top_k=None, eos_id=None):\n",
    "\n",
    "    # For-loop is the same as before: Get logits, and only focus on last time step\n",
    "    for _ in range(max_new_tokens):\n",
    "        idx_cond = idx[:, -context_size:]\n",
    "        with torch.no_grad():\n",
    "            logits = model(idx_cond)\n",
    "        logits = logits[:, -1, :]\n",
    "\n",
    "        # New: Filter logits with top_k sampling\n",
    "        if top_k is not None:\n",
    "            # Keep only top_k values\n",
    "            top_logits, _ = torch.topk(logits, top_k)\n",
    "            min_val = top_logits[:, -1]\n",
    "            logits = torch.where(logits < min_val, torch.tensor(float(\"-inf\")).to(logits.device), logits)\n",
    "\n",
    "        # New: Apply temperature scaling\n",
    "        if temperature > 0.0:\n",
    "            logits = logits / temperature\n",
    "\n",
    "            # Apply softmax to get probabilities\n",
    "            probs = torch.softmax(logits, dim=-1)  # (batch_size, context_len)\n",
    "\n",
    "            # Sample from the distribution\n",
    "            idx_next = torch.multinomial(probs, num_samples=1)  # (batch_size, 1)\n",
    "\n",
    "        # Otherwise same as before: get idx of the vocab entry with the highest logits value\n",
    "        else:\n",
    "            idx_next = torch.argmax(logits, dim=-1, keepdim=True)  # (batch_size, 1)\n",
    "\n",
    "        if idx_next == eos_id:  # Stop generating early if end-of-sequence token is encountered and eos_id is specified\n",
    "            break\n",
    "\n",
    "        # Same as before: append sampled index to the running sequence\n",
    "        idx = torch.cat((idx, idx_next), dim=1)  # (batch_size, num_tokens+1)\n",
    "\n",
    "    return idx"
   ]
  },
  {
   "cell_type": "markdown",
   "id": "0ef90d50-9c45-480c-90d3-2e7e888c65ea",
   "metadata": {},
   "source": [
    "<div class=\"alert alert-block alert-success\">\n",
    "\n",
    "Let's now see this new `generate` function in action:\n",
    "</div>"
   ]
  },
  {
   "cell_type": "code",
   "execution_count": 14,
   "id": "dc65f841-7e8f-45ec-b19e-4bef9adbbb9a",
   "metadata": {},
   "outputs": [
    {
     "name": "stdout",
     "output_type": "stream",
     "text": [
      "Output text:\n",
      " Every effort moves you sunburnt cheeks furrow, as a feather't let all the Riv\n"
     ]
    }
   ],
   "source": [
    "torch.manual_seed(100)\n",
    "\n",
    "token_ids = generate(\n",
    "    model=model,\n",
    "    idx=text_to_token_ids(\"Every effort moves you\", tokenizer),\n",
    "    max_new_tokens=15,\n",
    "    context_size=GPT_CONFIG_124M_SMALL[\"context_length\"],\n",
    "    top_k=25,\n",
    "    temperature=1.4\n",
    ")\n",
    "\n",
    "print(\"Output text:\\n\", token_ids_to_text(token_ids, tokenizer))"
   ]
  },
  {
   "cell_type": "markdown",
   "id": "53a7c826-e365-404e-b6d0-7dfd275170f1",
   "metadata": {},
   "source": [
    "<div class=\"alert alert-block alert-info\">\n",
    "\n",
    "As we can see, the generated text is very different from the one we previously generated\n",
    "via the generate_simple function earlier (**\"Every effort moves you? Yes--quite insensible to [...]\"**), which was a memorized passage from the training set.\n",
    "</div>"
   ]
  },
  {
   "cell_type": "markdown",
   "id": "3070f8a4-7030-4aa8-b6e9-c50178ba3727",
   "metadata": {},
   "source": [
    "<div class=\"alert alert-block alert-success\">\n",
    "    \n",
    "## 6.6 Chapter 6 Summary and Next Steps\n",
    "    \n",
    "This concludes our exploration of advanced text generation techniques. We've moved beyond the deterministic \"greedy\" approach and implemented the sophisticated sampling strategies that give modern LLMs their creative and nuanced voice.\n",
    "\n",
    "<div class=\"alert alert-block alert-info\">\n",
    " \n",
    "**Milestone Reached: Creative Text Generation Unlocked!**\n",
    "\n",
    "Throughout this chapter, we have:\n",
    "\n",
    "* Understood the limitations of greedy decoding and implemented **probabilistic sampling** using `torch.multinomial`.\n",
    "* Learned how to control the creativity of the output using **Temperature Scaling**.\n",
    "* Used **Top-k Sampling** to maintain coherence and prevent the model from generating nonsensical tokens.\n",
    "* Combined these strategies into a final, powerful `generate` function that offers fine-grained control over the text generation process.\n",
    " \n",
    "</div>\n",
    "\n",
    "### Where We Are Now\n",
    "\n",
    "We now have a trained GPT model and a sophisticated generation function. We can not only generate coherent text but also control its style—from conservative and predictable to creative and surprising—by tuning the `temperature` and `top_k` parameters.\n",
    "\n",
    "### What's Next?\n",
    "\n",
    "Our from-scratch model and generation pipeline are now fully functional. The next logical step is to see how our implementation stacks up against a professionally trained model. In the next notebook, **Chapter 7: Loading Pre-trained GPT-2 Weights**, we will download the official weights from OpenAI and load them into our own `GPTModel` architecture. This will be the ultimate test of our work.\n",
    "</div>"
   ]
  }
 ],
 "metadata": {
  "kernelspec": {
   "display_name": "Python 3 (ipykernel)",
   "language": "python",
   "name": "python3"
  },
  "language_info": {
   "codemirror_mode": {
    "name": "ipython",
    "version": 3
   },
   "file_extension": ".py",
   "mimetype": "text/x-python",
   "name": "python",
   "nbconvert_exporter": "python",
   "pygments_lexer": "ipython3",
   "version": "3.10.11"
  }
 },
 "nbformat": 4,
 "nbformat_minor": 5
}
